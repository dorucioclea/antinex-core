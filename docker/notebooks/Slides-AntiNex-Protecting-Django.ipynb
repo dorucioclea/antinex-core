{
 "cells": [
  {
   "cell_type": "markdown",
   "metadata": {
    "slideshow": {
     "slide_type": "slide"
    }
   },
   "source": [
    "## AntiNex Django Analysis\n",
    "\n",
    "Example for showing how to build deep neural networks to defend software applications like the celery workers do automatically.\n"
   ]
  },
  {
   "cell_type": "markdown",
   "metadata": {
    "slideshow": {
     "slide_type": "slide"
    }
   },
   "source": [
    "### Components\n",
    "\n",
    "1. Using the AntiNex Datasets:\n",
    "   https://github.com/jay-johnson/antinex-datasets\n",
    "1. Recording repository\n",
    "   https://github.com/jay-johnson/network-pipeline\n",
    "1. Django REST Framework + Celery + JWT + Swagger API:\n",
    "   https://github.com/jay-johnson/train-ai-with-django-swagger-jwt\n",
    "1. Utilities\n",
    "   https://github.com/jay-johnson/antinex-utils"
   ]
  },
  {
   "cell_type": "code",
   "execution_count": 1,
   "metadata": {
    "slideshow": {
     "slide_type": "subslide"
    }
   },
   "outputs": [
    {
     "name": "stdout",
     "output_type": "stream",
     "text": [
      "enabled vertical scrolling in slides\n"
     ]
    }
   ],
   "source": [
    "# enable reveal js with rise vertical scrolling in slides\n",
    "from notebook.services.config import ConfigManager\n",
    "cm = ConfigManager()\n",
    "cm.update(\n",
    "    'livereveal', {\n",
    "        'width': 1024,\n",
    "        'height': 768,\n",
    "        'scroll': True})\n",
    "\n",
    "print(\"enabled vertical scrolling in slides\")"
   ]
  },
  {
   "cell_type": "code",
   "execution_count": 2,
   "metadata": {
    "livereveal": {
     "theme": "serif",
     "transition": "zoom"
    },
    "slideshow": {
     "slide_type": "slide"
    }
   },
   "outputs": [
    {
     "name": "stderr",
     "output_type": "stream",
     "text": [
      "/usr/local/lib/python3.6/site-packages/h5py/__init__.py:36: FutureWarning: Conversion of the second argument of issubdtype from `float` to `np.floating` is deprecated. In future, it will be treated as `np.float64 == np.dtype(float).type`.\n",
      "  from ._conv import register_converters as _register_converters\n",
      "Using TensorFlow backend.\n"
     ]
    }
   ],
   "source": [
    "import os\n",
    "import json\n",
    "import logging\n",
    "import numpy as np\n",
    "import pandas as pd\n",
    "from keras.models import Sequential\n",
    "from keras.layers import Dense\n",
    "from keras.wrappers.scikit_learn import KerasClassifier\n",
    "from sklearn.model_selection import cross_val_score\n",
    "from sklearn.model_selection import StratifiedKFold\n",
    "from sklearn.preprocessing import StandardScaler\n",
    "from sklearn.preprocessing import MinMaxScaler\n",
    "from sklearn.pipeline import Pipeline\n",
    "from sklearn.metrics import confusion_matrix\n",
    "from sklearn.model_selection import train_test_split\n",
    "import matplotlib.pyplot as plt\n",
    "import seaborn as sns"
   ]
  },
  {
   "cell_type": "markdown",
   "metadata": {
    "slideshow": {
     "slide_type": "slide"
    }
   },
   "source": [
    "## Name this Analysis and set up the logger"
   ]
  },
  {
   "cell_type": "code",
   "execution_count": 3,
   "metadata": {
    "slideshow": {
     "slide_type": "slide"
    }
   },
   "outputs": [
    {
     "name": "stderr",
     "output_type": "stream",
     "text": [
      "2018-03-20 06:32:20,024 standalone-scaler-django-slides - INFO starting\n"
     ]
    }
   ],
   "source": [
    "name = \"standalone-scaler-django-slides\"\n",
    "logging.basicConfig(\n",
    "    level=logging.DEBUG,\n",
    "    format=\"%(asctime)-15s %(name)s - %(levelname)s %(message)s\")\n",
    "log = logging.getLogger(name)\n",
    "log.info(\"starting\")"
   ]
  },
  {
   "cell_type": "markdown",
   "metadata": {
    "slideshow": {
     "slide_type": "slide"
    }
   },
   "source": [
    "## Target Dataset and Model Artifacts"
   ]
  },
  {
   "cell_type": "code",
   "execution_count": 4,
   "metadata": {
    "slideshow": {
     "slide_type": "slide"
    }
   },
   "outputs": [],
   "source": [
    "dataset = \"/opt/antinex/antinex-datasets/v1/webapps/django/training-ready/v1_django_cleaned.csv\"\n",
    "output_dir = os.getenv(\n",
    "    \"SHARED_DIR\",\n",
    "    \"/tmp\")\n",
    "model_backup_file = \"{}/{}-full-model.h5\".format(output_dir, name)\n",
    "model_weights_file = \"{}/{}-weights.h5\".format(output_dir, name)\n",
    "model_json_file = \"{}/{}-model.json\".format(output_dir, name)\n",
    "model_image_file = \"{}/{}-predictions-vs-correct.png\".format(output_dir, name)\n",
    "image_title = \"{} - Predictions and Correct Predictions\".format(output_dir, name)\n",
    "footnote_text = \"AntiNex v1\"\n",
    "show_predictions = False"
   ]
  },
  {
   "cell_type": "markdown",
   "metadata": {
    "slideshow": {
     "slide_type": "slide"
    }
   },
   "source": [
    "### Set the Random Seed"
   ]
  },
  {
   "cell_type": "code",
   "execution_count": 5,
   "metadata": {
    "slideshow": {
     "slide_type": "slide"
    }
   },
   "outputs": [],
   "source": [
    "seed = 42\n",
    "np.random.seed(seed)"
   ]
  },
  {
   "cell_type": "code",
   "execution_count": 6,
   "metadata": {
    "slideshow": {
     "slide_type": "slide"
    }
   },
   "outputs": [],
   "source": [
    "def build_model(\n",
    "        num_features,\n",
    "        loss,\n",
    "        optimizer,\n",
    "        metrics):\n",
    "    \"\"\"build_model\n",
    "\n",
    "    Build the Keras Deep Neural Network Model\n",
    "\n",
    "    :param num_features: number of features\n",
    "    :param loss: loss function to apply\n",
    "    :param optimizer: optimizer to use\n",
    "    :param metrics: list of metrics\n",
    "    \"\"\"\n",
    "    log.info(\"building model\")\n",
    "    model = Sequential()\n",
    "    model.add(\n",
    "        Dense(\n",
    "            250,\n",
    "            input_dim=num_features,\n",
    "            kernel_initializer=\"uniform\",\n",
    "            activation=\"relu\"))\n",
    "    model.add(\n",
    "        Dense(\n",
    "            1,\n",
    "            kernel_initializer=\"uniform\",\n",
    "            activation=\"sigmoid\"))\n",
    "\n",
    "    log.info((\"compiling loss={} optimizer={} metrics={}\")\n",
    "             .format(\n",
    "                loss,\n",
    "                optimizer,\n",
    "                metrics))\n",
    "\n",
    "    model.compile(\n",
    "        loss=loss,\n",
    "        optimizer=optimizer,\n",
    "        metrics=metrics)\n",
    "\n",
    "    return model\n",
    "# end of build_model"
   ]
  },
  {
   "cell_type": "markdown",
   "metadata": {
    "slideshow": {
     "slide_type": "slide"
    }
   },
   "source": [
    "### Define Training Features to Process"
   ]
  },
  {
   "cell_type": "code",
   "execution_count": 7,
   "metadata": {
    "slideshow": {
     "slide_type": "slide"
    }
   },
   "outputs": [
    {
     "name": "stderr",
     "output_type": "stream",
     "text": [
      "2018-03-20 06:32:20,130 standalone-scaler-django-slides - INFO downloading url=https://github.com/jay-johnson/antinex-datasets/raw/master/v1/webapps/django/training-ready/v1_django_cleaned.csv\n"
     ]
    }
   ],
   "source": [
    "features_to_process = [\n",
    "    \"idx\",\n",
    "    \"arp_hwlen\",\n",
    "    \"arp_hwtype\",\n",
    "    \"arp_id\",\n",
    "    \"arp_op\",\n",
    "    \"arp_plen\",\n",
    "    \"arp_ptype\",\n",
    "    \"dns_default_aa\",\n",
    "    \"dns_default_ad\",\n",
    "    \"dns_default_an\",\n",
    "    \"dns_default_ancount\",\n",
    "    \"dns_default_ar\",\n",
    "    \"dns_default_arcount\",\n",
    "    \"dns_default_cd\",\n",
    "    \"dns_default_id\",\n",
    "    \"dns_default_length\",\n",
    "    \"dns_default_ns\",\n",
    "    \"dns_default_nscount\",\n",
    "    \"dns_default_opcode\",\n",
    "    \"dns_default_qd\",\n",
    "    \"dns_default_qdcount\",\n",
    "    \"dns_default_qr\",\n",
    "    \"dns_default_ra\",\n",
    "    \"dns_default_rcode\",\n",
    "    \"dns_default_rd\",\n",
    "    \"dns_default_tc\",\n",
    "    \"dns_default_z\",\n",
    "    \"dns_id\",\n",
    "    \"eth_id\",\n",
    "    \"eth_type\",\n",
    "    \"icmp_addr_mask\",\n",
    "    \"icmp_code\",\n",
    "    \"icmp_gw\",\n",
    "    \"icmp_id\",\n",
    "    \"icmp_ptr\",\n",
    "    \"icmp_seq\",\n",
    "    \"icmp_ts_ori\",\n",
    "    \"icmp_ts_rx\",\n",
    "    \"icmp_ts_tx\",\n",
    "    \"icmp_type\",\n",
    "    \"icmp_unused\",\n",
    "    \"ip_id\",\n",
    "    \"ip_ihl\",\n",
    "    \"ip_len\",\n",
    "    \"ip_tos\",\n",
    "    \"ip_version\",\n",
    "    \"ipv6_fl\",\n",
    "    \"ipv6_hlim\",\n",
    "    \"ipv6_nh\",\n",
    "    \"ipv6_plen\",\n",
    "    \"ipv6_tc\",\n",
    "    \"ipv6_version\",\n",
    "    \"ipvsix_id\",\n",
    "    \"pad_id\",\n",
    "    \"tcp_dport\",\n",
    "    \"tcp_fields_options.MSS\",\n",
    "    \"tcp_fields_options.NOP\",\n",
    "    \"tcp_fields_options.SAckOK\",\n",
    "    \"tcp_fields_options.Timestamp\",\n",
    "    \"tcp_fields_options.WScale\",\n",
    "    \"tcp_id\",\n",
    "    \"tcp_seq\",\n",
    "    \"tcp_sport\",\n",
    "    \"udp_dport\",\n",
    "    \"udp_id\",\n",
    "    \"udp_len\",\n",
    "    \"udp_sport\"\n",
    "]\n",
    "\n",
    "predict_feature = \"label_value\"\n",
    "predict_rows_df = None\n",
    "\n",
    "if not os.path.exists(dataset):\n",
    "    dataset_url = \"https://github.com/jay-johnson/antinex-datasets/raw/master/v1/webapps/django/training-ready/v1_django_cleaned.csv\"\n",
    "    log.info((\"downloading url={}\")\n",
    "             .format(\n",
    "                 dataset_url))\n",
    "    predict_rows_df = pd.read_csv(dataset_url)\n",
    "else:\n",
    "    log.info((\"loading dataset={}\")\n",
    "         .format(\n",
    "            dataset))\n",
    "    predict_rows_df = pd.read_csv(dataset)\n",
    "# if available on disk use the file, otherwise download it"
   ]
  },
  {
   "cell_type": "markdown",
   "metadata": {
    "slideshow": {
     "slide_type": "slide"
    }
   },
   "source": [
    "### Setup Training Parameters"
   ]
  },
  {
   "cell_type": "code",
   "execution_count": 8,
   "metadata": {
    "slideshow": {
     "slide_type": "slide"
    }
   },
   "outputs": [
    {
     "name": "stderr",
     "output_type": "stream",
     "text": [
      "2018-03-20 06:32:21,156 standalone-scaler-django-slides - INFO converting to json\n"
     ]
    }
   ],
   "source": [
    "log.info(\"converting to json\")\n",
    "predict_rows = predict_rows_df.to_json()\n",
    "found_columns = list(predict_rows_df.columns.values)\n",
    "num_features = len(found_columns) - 1\n",
    "min_scaler_range = -1\n",
    "max_scaler_range = 1\n",
    "max_records = 100000\n",
    "verbose = 1\n",
    "test_size = 0.2\n",
    "batch_size = 32\n",
    "epochs = 15\n",
    "num_splits = 2\n",
    "loss = \"binary_crossentropy\"\n",
    "optimizer = \"adam\"\n",
    "metrics = [\n",
    "    \"accuracy\"\n",
    "]\n",
    "histories = [\n",
    "    \"val_loss\",\n",
    "    \"val_acc\",\n",
    "    \"loss\",\n",
    "    \"acc\"\n",
    "]\n",
    "label_rules = {\n",
    "    \"labels\": [\n",
    "        \"not_attack\",\n",
    "        \"not_attack\",\n",
    "        \"attack\"\n",
    "    ],\n",
    "    \"label_values\": [\n",
    "        -1,\n",
    "        0,\n",
    "        1\n",
    "    ]\n",
    "}\n",
    "\n",
    "should_set_labels = False\n",
    "labels_dict = {}\n",
    "if \"labels\" in label_rules and \"label_values\" in label_rules:\n",
    "    label_rows = label_rules[\"label_values\"]\n",
    "    for idx, lidx in enumerate(label_rows):\n",
    "        if len(label_rules[\"labels\"]) >= idx:\n",
    "            should_set_labels = True\n",
    "            labels_dict[str(lidx)] = label_rules[\"labels\"][idx]\n",
    "# end of compiling labels dictionary"
   ]
  },
  {
   "cell_type": "markdown",
   "metadata": {
    "slideshow": {
     "slide_type": "slide"
    }
   },
   "source": [
    "### Define a Keras Scikit-Learn Handler"
   ]
  },
  {
   "cell_type": "code",
   "execution_count": 9,
   "metadata": {
    "slideshow": {
     "slide_type": "slide"
    }
   },
   "outputs": [],
   "source": [
    "# define a function with no arguments for Keras Scikit-Learn API to work\n",
    "# https://keras.io/scikit-learn-api/\n",
    "def set_model():\n",
    "    \"\"\"set_model\"\"\"\n",
    "    return build_model(\n",
    "        num_features=num_features,\n",
    "        loss=loss,\n",
    "        optimizer=optimizer,\n",
    "        metrics=metrics)\n",
    "# end of set_model"
   ]
  },
  {
   "cell_type": "markdown",
   "metadata": {
    "slideshow": {
     "slide_type": "slide"
    }
   },
   "source": [
    "### Setup Training and Test Scalers"
   ]
  },
  {
   "cell_type": "code",
   "execution_count": 10,
   "metadata": {
    "slideshow": {
     "slide_type": "slide"
    }
   },
   "outputs": [],
   "source": [
    "cast_to_type = \"float32\"\n",
    "train_df = predict_rows_df[features_to_process]\n",
    "test_df = pd.DataFrame(\n",
    "    {predict_feature: predict_rows_df[predict_feature]})\n",
    "\n",
    "train_scaler = MinMaxScaler(\n",
    "    feature_range=(\n",
    "        min_scaler_range,\n",
    "        max_scaler_range))\n",
    "train_only_floats = train_df.values.astype(cast_to_type)\n",
    "scaled_train_dataset = train_scaler.fit_transform(\n",
    "    train_only_floats)\n",
    "\n",
    "test_scaler = MinMaxScaler(\n",
    "    feature_range=(\n",
    "        min_scaler_range,\n",
    "        max_scaler_range))\n",
    "test_only_floats = test_df.values.astype(cast_to_type)\n",
    "scaled_test_dataset = test_scaler.fit_transform(\n",
    "    test_only_floats)"
   ]
  },
  {
   "cell_type": "markdown",
   "metadata": {
    "slideshow": {
     "slide_type": "slide"
    }
   },
   "source": [
    "### Build Train and Test records from Scaled Datasets"
   ]
  },
  {
   "cell_type": "code",
   "execution_count": 11,
   "metadata": {
    "slideshow": {
     "slide_type": "slide"
    }
   },
   "outputs": [
    {
     "name": "stderr",
     "output_type": "stream",
     "text": [
      "2018-03-20 06:32:21,419 standalone-scaler-django-slides - INFO splitting rows=30200 test_size=0.2\n"
     ]
    }
   ],
   "source": [
    "datanode = {\n",
    "    \"X_train\": None,\n",
    "    \"Y_train\": None,\n",
    "    \"X_test\": None,\n",
    "    \"Y_test\": None\n",
    "}\n",
    "\n",
    "log.info((\"splitting rows={} test_size={}\")\n",
    "         .format(\n",
    "            len(train_only_floats),\n",
    "            test_size))\n",
    "\n",
    "(datanode[\"X_train\"],\n",
    " datanode[\"X_test\"],\n",
    " datanode[\"Y_train\"],\n",
    " datanode[\"Y_test\"]) = train_test_split(\n",
    "            scaled_train_dataset,\n",
    "            scaled_test_dataset,\n",
    "            test_size=test_size,\n",
    "            random_state=seed)\n",
    "\n",
    "predict_rows_df[predict_feature] = scaled_test_dataset\n",
    "train_scaler_df = pd.DataFrame(\n",
    "    scaled_train_dataset,\n",
    "    columns=features_to_process)\n",
    "test_scaler_df = pd.DataFrame(\n",
    "    scaled_test_dataset,\n",
    "    columns=[predict_feature])"
   ]
  },
  {
   "cell_type": "markdown",
   "metadata": {
    "slideshow": {
     "slide_type": "slide"
    }
   },
   "source": [
    "### Create Train and Test Predictions"
   ]
  },
  {
   "cell_type": "code",
   "execution_count": 12,
   "metadata": {
    "slideshow": {
     "slide_type": "slide"
    }
   },
   "outputs": [
    {
     "name": "stderr",
     "output_type": "stream",
     "text": [
      "2018-03-20 06:32:21,445 standalone-scaler-django-slides - INFO scaled datasets ready x_train=24160 y_train=24160 x_test=6040 y_test=6040\n"
     ]
    }
   ],
   "source": [
    "sample_rows = train_scaler_df[features_to_process]\n",
    "target_rows = test_scaler_df\n",
    "num_samples = len(sample_rows.index)\n",
    "num_target_rows = len(target_rows.index)\n",
    "\n",
    "log.info((\"scaled datasets ready \"\n",
    "          \"x_train={} y_train={} \"\n",
    "          \"x_test={} y_test={}\")\n",
    "         .format(\n",
    "            len(datanode[\"X_train\"]),\n",
    "            len(datanode[\"Y_train\"]),\n",
    "            len(datanode[\"X_test\"]),\n",
    "            len(datanode[\"Y_test\"])))"
   ]
  },
  {
   "cell_type": "markdown",
   "metadata": {
    "slideshow": {
     "slide_type": "slide"
    }
   },
   "source": [
    "### Build Keras Classifier"
   ]
  },
  {
   "cell_type": "code",
   "execution_count": 13,
   "metadata": {
    "slideshow": {
     "slide_type": "slide"
    }
   },
   "outputs": [
    {
     "name": "stderr",
     "output_type": "stream",
     "text": [
      "2018-03-20 06:32:21,648 standalone-scaler-django-slides - INFO building KerasClassifier\n"
     ]
    }
   ],
   "source": [
    "log.info(\"building KerasClassifier\")\n",
    "\n",
    "model = KerasClassifier(\n",
    "    build_fn=set_model,\n",
    "    epochs=epochs,\n",
    "    batch_size=batch_size,\n",
    "    verbose=verbose)"
   ]
  },
  {
   "cell_type": "markdown",
   "metadata": {
    "slideshow": {
     "slide_type": "slide"
    }
   },
   "source": [
    "### Fit Model"
   ]
  },
  {
   "cell_type": "code",
   "execution_count": 14,
   "metadata": {
    "slideshow": {
     "slide_type": "slide"
    }
   },
   "outputs": [
    {
     "name": "stderr",
     "output_type": "stream",
     "text": [
      "2018-03-20 06:32:21,669 standalone-scaler-django-slides - INFO fitting model epochs=15 batch=32 rows=24160 features=68\n",
      "2018-03-20 06:32:21,676 standalone-scaler-django-slides - INFO building model\n",
      "2018-03-20 06:32:21,712 standalone-scaler-django-slides - INFO compiling loss=binary_crossentropy optimizer=adam metrics=['accuracy']\n"
     ]
    },
    {
     "name": "stdout",
     "output_type": "stream",
     "text": [
      "Train on 24160 samples, validate on 6040 samples\n",
      "Epoch 1/15\n",
      "24160/24160 [==============================] - 1s 55us/step - loss: 0.5872 - acc: 0.7017 - val_loss: -0.2711 - val_acc: 0.0000e+00\n",
      "Epoch 2/15\n",
      "24160/24160 [==============================] - 1s 50us/step - loss: 0.5584 - acc: 0.7006 - val_loss: -0.5288 - val_acc: 0.0000e+00\n",
      "Epoch 3/15\n",
      "24160/24160 [==============================] - 1s 51us/step - loss: 0.4966 - acc: 0.7043 - val_loss: -0.7270 - val_acc: 0.1550\n",
      "Epoch 4/15\n",
      "24160/24160 [==============================] - 1s 59us/step - loss: 0.3668 - acc: 0.8611 - val_loss: -1.5190 - val_acc: 0.2947\n",
      "Epoch 5/15\n",
      "24160/24160 [==============================] - 1s 52us/step - loss: 0.2392 - acc: 0.9502 - val_loss: -2.2604 - val_acc: 0.2947\n",
      "Epoch 6/15\n",
      "24160/24160 [==============================] - 1s 54us/step - loss: 0.1456 - acc: 0.9712 - val_loss: -2.8617 - val_acc: 0.2947\n",
      "Epoch 7/15\n",
      "24160/24160 [==============================] - 1s 53us/step - loss: 0.0871 - acc: 0.9977 - val_loss: -3.4370 - val_acc: 0.2947\n",
      "Epoch 8/15\n",
      "24160/24160 [==============================] - 1s 53us/step - loss: 0.0558 - acc: 0.9978 - val_loss: -3.9572 - val_acc: 0.2947\n",
      "Epoch 9/15\n",
      "24160/24160 [==============================] - 1s 53us/step - loss: 0.0397 - acc: 0.9978 - val_loss: -4.3574 - val_acc: 0.2947\n",
      "Epoch 10/15\n",
      "24160/24160 [==============================] - 1s 53us/step - loss: 0.0306 - acc: 0.9979 - val_loss: -4.7941 - val_acc: 0.2947\n",
      "Epoch 11/15\n",
      "24160/24160 [==============================] - 1s 54us/step - loss: 0.0250 - acc: 0.9979 - val_loss: -4.8679 - val_acc: 0.2947\n",
      "Epoch 12/15\n",
      "24160/24160 [==============================] - 1s 53us/step - loss: 0.0203 - acc: 0.9980 - val_loss: -5.2195 - val_acc: 0.2949\n",
      "Epoch 13/15\n",
      "24160/24160 [==============================] - 1s 55us/step - loss: 0.0182 - acc: 0.9981 - val_loss: -5.4769 - val_acc: 0.2950\n",
      "Epoch 14/15\n",
      "24160/24160 [==============================] - 1s 53us/step - loss: 0.0176 - acc: 0.9981 - val_loss: -5.7019 - val_acc: 0.2950\n",
      "Epoch 15/15\n",
      "24160/24160 [==============================] - 1s 54us/step - loss: 0.0167 - acc: 0.9981 - val_loss: -5.9653 - val_acc: 0.2950\n"
     ]
    }
   ],
   "source": [
    "log.info((\"fitting model epochs={} batch={} \"\n",
    "          \"rows={} features={}\")\n",
    "         .format(\n",
    "            epochs,\n",
    "            batch_size,\n",
    "            len(datanode[\"X_train\"]),\n",
    "            len(found_columns)))\n",
    "\n",
    "history = model.fit(\n",
    "    datanode[\"X_train\"],\n",
    "    datanode[\"Y_train\"],\n",
    "    validation_data=(\n",
    "        datanode[\"X_test\"],\n",
    "        datanode[\"Y_test\"]),\n",
    "    epochs=epochs,\n",
    "    batch_size=batch_size,\n",
    "    shuffle=False,\n",
    "    verbose=verbose)"
   ]
  },
  {
   "cell_type": "markdown",
   "metadata": {
    "slideshow": {
     "slide_type": "slide"
    }
   },
   "source": [
    "### Build Pipeline and Cross Validate using Stratified K-Folds"
   ]
  },
  {
   "cell_type": "code",
   "execution_count": 15,
   "metadata": {
    "slideshow": {
     "slide_type": "slide"
    }
   },
   "outputs": [
    {
     "name": "stderr",
     "output_type": "stream",
     "text": [
      "2018-03-20 06:32:41,347 standalone-scaler-django-slides - INFO building estimators\n",
      "2018-03-20 06:32:41,349 standalone-scaler-django-slides - INFO building pipeline\n",
      "2018-03-20 06:32:41,350 standalone-scaler-django-slides - INFO starting classification StratifiedKFold splits=2 seed=42\n",
      "2018-03-20 06:32:41,351 standalone-scaler-django-slides - INFO classification cross_val_score\n",
      "2018-03-20 06:32:41,367 standalone-scaler-django-slides - INFO building model\n",
      "2018-03-20 06:32:41,401 standalone-scaler-django-slides - INFO compiling loss=binary_crossentropy optimizer=adam metrics=['accuracy']\n"
     ]
    },
    {
     "name": "stdout",
     "output_type": "stream",
     "text": [
      "Epoch 1/15\n",
      "12080/12080 [==============================] - 1s 62us/step - loss: 0.5750 - acc: 0.7003\n",
      "Epoch 2/15\n",
      "12080/12080 [==============================] - 1s 52us/step - loss: 0.4999 - acc: 0.7315\n",
      "Epoch 3/15\n",
      "12080/12080 [==============================] - 1s 48us/step - loss: 0.3650 - acc: 0.8584\n",
      "Epoch 4/15\n",
      "12080/12080 [==============================] - 1s 48us/step - loss: 0.2256 - acc: 0.9613\n",
      "Epoch 5/15\n",
      "12080/12080 [==============================] - 1s 51us/step - loss: 0.1341 - acc: 0.9948\n",
      "Epoch 6/15\n",
      "12080/12080 [==============================] - 1s 48us/step - loss: 0.0830 - acc: 0.9971\n",
      "Epoch 7/15\n",
      "12080/12080 [==============================] - 1s 51us/step - loss: 0.0547 - acc: 0.9974\n",
      "Epoch 8/15\n",
      "12080/12080 [==============================] - 1s 49us/step - loss: 0.0379 - acc: 0.9978\n",
      "Epoch 9/15\n",
      "12080/12080 [==============================] - 1s 46us/step - loss: 0.0279 - acc: 0.9979\n",
      "Epoch 10/15\n",
      "12080/12080 [==============================] - 1s 50us/step - loss: 0.0215 - acc: 0.9980\n",
      "Epoch 11/15\n",
      "12080/12080 [==============================] - 1s 48us/step - loss: 0.0174 - acc: 0.9983\n",
      "Epoch 12/15\n",
      "12080/12080 [==============================] - 1s 49us/step - loss: 0.0144 - acc: 0.9983\n",
      "Epoch 13/15\n",
      "12080/12080 [==============================] - 1s 49us/step - loss: 0.0125 - acc: 0.9983\n",
      "Epoch 14/15\n",
      "12080/12080 [==============================] - 1s 51us/step - loss: 0.0108 - acc: 0.9983\n",
      "Epoch 15/15\n",
      "12080/12080 [==============================] - 1s 52us/step - loss: 0.0094 - acc: 0.9987\n",
      "12080/12080 [==============================] - 0s 26us/step\n"
     ]
    },
    {
     "name": "stderr",
     "output_type": "stream",
     "text": [
      "2018-03-20 06:32:51,192 standalone-scaler-django-slides - INFO building model\n",
      "2018-03-20 06:32:51,216 standalone-scaler-django-slides - INFO compiling loss=binary_crossentropy optimizer=adam metrics=['accuracy']\n"
     ]
    },
    {
     "name": "stdout",
     "output_type": "stream",
     "text": [
      "Epoch 1/15\n",
      "12080/12080 [==============================] - 1s 61us/step - loss: 0.5690 - acc: 0.7026\n",
      "Epoch 2/15\n",
      "12080/12080 [==============================] - 1s 52us/step - loss: 0.4952 - acc: 0.7369\n",
      "Epoch 3/15\n",
      "12080/12080 [==============================] - 1s 51us/step - loss: 0.3582 - acc: 0.8709\n",
      "Epoch 4/15\n",
      "12080/12080 [==============================] - 1s 49us/step - loss: 0.2097 - acc: 0.9707\n",
      "Epoch 5/15\n",
      "12080/12080 [==============================] - 1s 53us/step - loss: 0.1118 - acc: 0.9964\n",
      "Epoch 6/15\n",
      "12080/12080 [==============================] - 1s 53us/step - loss: 0.0629 - acc: 0.9978\n",
      "Epoch 7/15\n",
      "12080/12080 [==============================] - 1s 54us/step - loss: 0.0394 - acc: 0.9981\n",
      "Epoch 8/15\n",
      "12080/12080 [==============================] - 1s 50us/step - loss: 0.0276 - acc: 0.9981\n",
      "Epoch 9/15\n",
      "12080/12080 [==============================] - 1s 50us/step - loss: 0.0206 - acc: 0.9982\n",
      "Epoch 10/15\n",
      "12080/12080 [==============================] - 1s 52us/step - loss: 0.0165 - acc: 0.9983\n",
      "Epoch 11/15\n",
      "12080/12080 [==============================] - 1s 53us/step - loss: 0.0136 - acc: 0.9983\n",
      "Epoch 12/15\n",
      "12080/12080 [==============================] - 1s 51us/step - loss: 0.0117 - acc: 0.9983\n",
      "Epoch 13/15\n",
      "12080/12080 [==============================] - 1s 51us/step - loss: 0.0104 - acc: 0.9987\n",
      "Epoch 14/15\n",
      "12080/12080 [==============================] - 1s 47us/step - loss: 0.0095 - acc: 0.9985\n",
      "Epoch 15/15\n",
      "12080/12080 [==============================] - 1s 49us/step - loss: 0.0084 - acc: 0.9986\n",
      "12080/12080 [==============================] - 0s 29us/step\n"
     ]
    },
    {
     "name": "stderr",
     "output_type": "stream",
     "text": [
      "2018-03-20 06:33:01,269 standalone-scaler-django-slides - INFO classification accuracy=99.82201986754967 samples=30200\n"
     ]
    }
   ],
   "source": [
    "log.info(\"building estimators\")\n",
    "\n",
    "estimators = []\n",
    "estimators.append(\n",
    "    (\"standardize\",\n",
    "        StandardScaler()))\n",
    "estimators.append(\n",
    "    (\"mlp\",\n",
    "        model))\n",
    "\n",
    "log.info(\"building pipeline\")\n",
    "pipeline = Pipeline(estimators)\n",
    "\n",
    "# noqa https://machinelearningmastery.com/multi-class-classification-tutorial-keras-deep-learning-library/\n",
    "log.info((\"starting classification \"\n",
    "          \"StratifiedKFold \"\n",
    "          \"splits={} seed={}\")\n",
    "         .format(\n",
    "            num_splits,\n",
    "            seed))\n",
    "\n",
    "kfold = StratifiedKFold(\n",
    "    n_splits=num_splits,\n",
    "    random_state=seed)\n",
    "\n",
    "log.info((\"classification cross_val_score\"))\n",
    "results = cross_val_score(\n",
    "    pipeline,\n",
    "    datanode[\"X_train\"],\n",
    "    datanode[\"Y_train\"],\n",
    "    cv=kfold)\n",
    "scores = [\n",
    "    results.std(),\n",
    "    results.mean()\n",
    "]\n",
    "accuracy = {\n",
    "    \"accuracy\": results.mean() * 100\n",
    "}\n",
    "\n",
    "log.info((\"classification accuracy={} samples={}\")\n",
    "         .format(\n",
    "            accuracy[\"accuracy\"],\n",
    "            num_samples))"
   ]
  },
  {
   "cell_type": "markdown",
   "metadata": {
    "slideshow": {
     "slide_type": "slide"
    }
   },
   "source": [
    "### Make Predictions"
   ]
  },
  {
   "cell_type": "code",
   "execution_count": 16,
   "metadata": {
    "slideshow": {
     "slide_type": "slide"
    }
   },
   "outputs": [
    {
     "name": "stdout",
     "output_type": "stream",
     "text": [
      "30200/30200 [==============================] - 1s 22us/step\n"
     ]
    }
   ],
   "source": [
    "predictions = model.predict(\n",
    "    sample_rows.values,\n",
    "    verbose=verbose)"
   ]
  },
  {
   "cell_type": "markdown",
   "metadata": {
    "slideshow": {
     "slide_type": "slide"
    }
   },
   "source": [
    "### Create Confusion Matrix"
   ]
  },
  {
   "cell_type": "code",
   "execution_count": 17,
   "metadata": {
    "slideshow": {
     "slide_type": "slide"
    }
   },
   "outputs": [
    {
     "name": "stderr",
     "output_type": "stream",
     "text": [
      "2018-03-20 06:33:01,959 standalone-scaler-django-slides - INFO classification confusion_matrix samples=30200 predictions=30200 target_rows=30200\n",
      "2018-03-20 06:33:01,994 standalone-scaler-django-slides - INFO classification has confusion_matrix=[[21199     1]\n",
      " [   54  8946]] predictions=30200 target_rows=30200\n"
     ]
    }
   ],
   "source": [
    "log.info((\"classification confusion_matrix samples={} \"\n",
    "          \"predictions={} target_rows={}\")\n",
    "         .format(\n",
    "            num_samples,\n",
    "            len(predictions),\n",
    "            num_target_rows))\n",
    "\n",
    "cm = confusion_matrix(\n",
    "    target_rows.values,\n",
    "    predictions)\n",
    "\n",
    "log.info((\"classification has confusion_matrix={} \"\n",
    "          \"predictions={} target_rows={}\")\n",
    "         .format(\n",
    "            cm,\n",
    "            len(predictions),\n",
    "            num_target_rows))\n",
    "# end of confusion matrix"
   ]
  },
  {
   "cell_type": "markdown",
   "metadata": {
    "slideshow": {
     "slide_type": "slide"
    }
   },
   "source": [
    "### Round Predictions"
   ]
  },
  {
   "cell_type": "code",
   "execution_count": 18,
   "metadata": {
    "slideshow": {
     "slide_type": "slide"
    }
   },
   "outputs": [
    {
     "name": "stderr",
     "output_type": "stream",
     "text": [
      "2018-03-20 06:33:02,087 standalone-scaler-django-slides - INFO scores=[0.00012417218543048225, 0.9982201986754967] accuracy=99.82201986754967 merging samples=30200 with predictions=30200 labels={'-1': 'not_attack', '0': 'not_attack', '1': 'attack'}\n"
     ]
    }
   ],
   "source": [
    "rounded = [round(x[0]) for x in predictions]\n",
    "sample_predictions = []\n",
    "\n",
    "log.info((\"scores={} accuracy={} \"\n",
    "          \"merging samples={} with predictions={} \"\n",
    "          \"labels={}\")\n",
    "         .format(\n",
    "            scores,\n",
    "            accuracy.get(\"accuracy\", None),\n",
    "            len(sample_rows.index),\n",
    "            len(rounded),\n",
    "            labels_dict))"
   ]
  },
  {
   "cell_type": "markdown",
   "metadata": {
    "slideshow": {
     "slide_type": "slide"
    }
   },
   "source": [
    "### Merge Correct Answers with Predicted Answers"
   ]
  },
  {
   "cell_type": "code",
   "execution_count": 19,
   "metadata": {
    "slideshow": {
     "slide_type": "slide"
    }
   },
   "outputs": [],
   "source": [
    "ridx = 0\n",
    "for idx, row in predict_rows_df.iterrows():\n",
    "    if len(sample_predictions) > max_records:\n",
    "        log.info((\"hit max={} predictions\")\n",
    "                 .format(\n",
    "                    max_records))\n",
    "        break\n",
    "    new_row = json.loads(row.to_json())\n",
    "    cur_value = rounded[ridx]\n",
    "    if predict_feature in row:\n",
    "        new_row[\"_original_{}\".format(\n",
    "                predict_feature)] = \\\n",
    "            int(row[predict_feature])\n",
    "    else:\n",
    "        new_row[\"_original_{}\".format(\n",
    "                predict_feature)] = \\\n",
    "            \"missing-from-dataset\"\n",
    "    if cur_value != int(row[predict_feature]):\n",
    "        new_row[\"prediction_status\"] = 1\n",
    "    else:\n",
    "        new_row[\"prediction_status\"] = 0\n",
    "\n",
    "    new_row[predict_feature] = int(cur_value)\n",
    "\n",
    "    if should_set_labels:\n",
    "        new_row[\"label_name\"] = \\\n",
    "            labels_dict[str(int(cur_value))]\n",
    "    new_row[\"_row_idx\"] = ridx\n",
    "    new_row[\"_count\"] = idx\n",
    "    sample_predictions.append(new_row)\n",
    "    ridx += 1\n",
    "# end of merging samples with predictions"
   ]
  },
  {
   "cell_type": "markdown",
   "metadata": {
    "slideshow": {
     "slide_type": "slide"
    }
   },
   "source": [
    "### (Optional) Print Out Every Prediction and Original"
   ]
  },
  {
   "cell_type": "code",
   "execution_count": 20,
   "metadata": {
    "slideshow": {
     "slide_type": "slide"
    }
   },
   "outputs": [
    {
     "name": "stderr",
     "output_type": "stream",
     "text": [
      "2018-03-20 06:33:07,511 standalone-scaler-django-slides - INFO creating merged_predictions_df from sample_predictions=30200\n"
     ]
    }
   ],
   "source": [
    "log.info((\"creating merged_predictions_df from sample_predictions={}\")\n",
    "         .format(\n",
    "            len(sample_predictions)))\n",
    "\n",
    "merged_predictions_df = pd.DataFrame(\n",
    "    sample_predictions)\n",
    "\n",
    "if show_predictions:\n",
    "    for row_num, row in merged_predictions_df.iterrows():\n",
    "        log.info((\"row={} original_{}={} predicted={}\")\n",
    "                 .format(\n",
    "                    row_num,\n",
    "                    predict_feature,\n",
    "                    row[\"_original_{}\".format(\n",
    "                        predict_feature)],\n",
    "                    row[predict_feature]))\n",
    "    # end seeing original vs predicted\n",
    "# if showing all predictions to log"
   ]
  },
  {
   "cell_type": "markdown",
   "metadata": {
    "slideshow": {
     "slide_type": "slide"
    }
   },
   "source": [
    "### Save Weights + Model as JSON + full Model to files"
   ]
  },
  {
   "cell_type": "code",
   "execution_count": 21,
   "metadata": {
    "slideshow": {
     "slide_type": "slide"
    }
   },
   "outputs": [
    {
     "name": "stderr",
     "output_type": "stream",
     "text": [
      "2018-03-20 06:33:08,207 standalone-scaler-django-slides - DEBUG saving weights\n",
      "2018-03-20 06:33:08,235 standalone-scaler-django-slides - DEBUG saving full keras model to file\n",
      "2018-03-20 06:33:08,287 standalone-scaler-django-slides - DEBUG saving keras model as json to file\n",
      "2018-03-20 06:33:08,288 standalone-scaler-django-slides - INFO neural network created merged_predictions_df.index=30200 columns=['_count' '_original_label_value' '_row_idx' 'arp_hwlen' 'arp_hwtype'\n",
      " 'arp_id' 'arp_op' 'arp_plen' 'arp_ptype' 'dns_default_aa'\n",
      " 'dns_default_ad' 'dns_default_an' 'dns_default_ancount' 'dns_default_ar'\n",
      " 'dns_default_arcount' 'dns_default_cd' 'dns_default_id'\n",
      " 'dns_default_length' 'dns_default_ns' 'dns_default_nscount'\n",
      " 'dns_default_opcode' 'dns_default_qd' 'dns_default_qdcount'\n",
      " 'dns_default_qr' 'dns_default_ra' 'dns_default_rcode' 'dns_default_rd'\n",
      " 'dns_default_tc' 'dns_default_z' 'dns_id' 'eth_id' 'eth_type'\n",
      " 'icmp_addr_mask' 'icmp_code' 'icmp_gw' 'icmp_id' 'icmp_ptr' 'icmp_seq'\n",
      " 'icmp_ts_ori' 'icmp_ts_rx' 'icmp_ts_tx' 'icmp_type' 'icmp_unused' 'idx'\n",
      " 'ip_id' 'ip_ihl' 'ip_len' 'ip_tos' 'ip_version' 'ipv6_fl' 'ipv6_hlim'\n",
      " 'ipv6_nh' 'ipv6_plen' 'ipv6_tc' 'ipv6_version' 'ipvsix_id' 'label_name'\n",
      " 'label_value' 'pad_id' 'prediction_status' 'tcp_dport'\n",
      " 'tcp_fields_options.MSS' 'tcp_fields_options.NOP'\n",
      " 'tcp_fields_options.SAckOK' 'tcp_fields_options.Timestamp'\n",
      " 'tcp_fields_options.WScale' 'tcp_id' 'tcp_seq' 'tcp_sport' 'udp_dport'\n",
      " 'udp_id' 'udp_len' 'udp_sport'] with cross_val_score=[0.00012417218543048225, 0.9982201986754967] and accuracy=99.82201986754967\n",
      "2018-03-20 06:33:08,289 standalone-scaler-django-slides - INFO saved model_backup_file=/data/standalone-scaler-django-slides-full-model.h5 model_weights_file=/data/standalone-scaler-django-slides-weights.h5 model_json_file=/data/standalone-scaler-django-slides-model.json\n"
     ]
    }
   ],
   "source": [
    "log.debug(\"saving weights\")\n",
    "\n",
    "# there are some known issues saving weights:\n",
    "# https://github.com/keras-team/keras/issues/4875\n",
    "model.model.save_weights(model_weights_file)\n",
    "\n",
    "log.debug(\"saving full keras model to file\")\n",
    "\n",
    "model.model.save(model_backup_file)\n",
    "\n",
    "log.debug(\"saving keras model as json to file\")\n",
    "\n",
    "with open(\n",
    "        model_json_file,\n",
    "        \"w\") as json_file:\n",
    "    json_file.write(model.model.to_json())\n",
    "\n",
    "log.info((\"neural network created \"\n",
    "          \"merged_predictions_df.index={} columns={} \"\n",
    "          \"with cross_val_score={} and accuracy={}\")\n",
    "         .format(\n",
    "            len(merged_predictions_df.index),\n",
    "            merged_predictions_df.columns.values,\n",
    "            scores,\n",
    "            accuracy.get(\"accuracy\", None)))\n",
    "\n",
    "log.info((\"saved model_backup_file={} \"\n",
    "          \"model_weights_file={} model_json_file={}\")\n",
    "         .format(\n",
    "            model_backup_file,\n",
    "            model_weights_file,\n",
    "            model_json_file))"
   ]
  },
  {
   "cell_type": "markdown",
   "metadata": {
    "slideshow": {
     "slide_type": "slide"
    }
   },
   "source": [
    "## Show Prediction Distributions\n",
    "### 0.0 values are correct predictions\n",
    "### 1.0 values are not-correct predictions"
   ]
  },
  {
   "cell_type": "code",
   "execution_count": 22,
   "metadata": {
    "slideshow": {
     "slide_type": "slide"
    }
   },
   "outputs": [
    {
     "name": "stderr",
     "output_type": "stream",
     "text": [
      "/usr/local/lib/python3.6/site-packages/matplotlib/axes/_axes.py:6462: UserWarning: The 'normed' kwarg is deprecated, and has been replaced by the 'density' kwarg.\n",
      "  warnings.warn(\"The 'normed' kwarg is deprecated, and has been \"\n",
      "2018-03-20 06:33:08,469 matplotlib.font_manager - DEBUG findfont: Matching :family=sans-serif:style=normal:variant=normal:weight=normal:stretch=normal:size=10.0 to DejaVu Sans ('/usr/local/lib/python3.6/site-packages/matplotlib/mpl-data/fonts/ttf/DejaVuSans.ttf') with score of 0.050000\n",
      "2018-03-20 06:33:08,504 matplotlib.font_manager - DEBUG findfont: Matching :family=sans-serif:style=normal:variant=normal:weight=normal:stretch=normal:size=8.0 to DejaVu Sans ('/usr/local/lib/python3.6/site-packages/matplotlib/mpl-data/fonts/ttf/DejaVuSans.ttf') with score of 0.050000\n"
     ]
    },
    {
     "data": {
      "image/png": "[encoded data removed]",
      "text/plain": [
       "<Figure size 1080x720 with 1 Axes>"
      ]
     },
     "metadata": {},
     "output_type": "display_data"
    }
   ],
   "source": [
    "fig, ax = plt.subplots(figsize=(15.0, 10.0))\n",
    "ax = sns.distplot(merged_predictions_df[\"prediction_status\"])\n",
    "ax.get_figure().text(\n",
    "    0.90,\n",
    "    0.01,\n",
    "    footnote_text,\n",
    "    va=\"bottom\",\n",
    "    fontsize=8,\n",
    "    color=\"#888888\")\n",
    "plt.show()"
   ]
  },
  {
   "cell_type": "markdown",
   "metadata": {
    "slideshow": {
     "slide_type": "slide"
    }
   },
   "source": [
    "### Display Location of Analysis and Model Files"
   ]
  },
  {
   "cell_type": "code",
   "execution_count": 23,
   "metadata": {
    "slideshow": {
     "slide_type": "slide"
    }
   },
   "outputs": [
    {
     "name": "stderr",
     "output_type": "stream",
     "text": [
      "2018-03-20 06:33:08,759 standalone-scaler-django-slides - INFO saved model_backup_file=/data/standalone-scaler-django-slides-full-model.h5 model_weights_file=/data/standalone-scaler-django-slides-weights.h5 model_json_file=/data/standalone-scaler-django-slides-model.json\n"
     ]
    }
   ],
   "source": [
    "log.info((\"saved model_backup_file={} model_weights_file={} \"\n",
    "          \"model_json_file={}\")\n",
    "         .format(\n",
    "            model_backup_file,\n",
    "            model_weights_file,\n",
    "            model_json_file))"
   ]
  }
 ],
 "metadata": {
  "celltoolbar": "Slideshow",
  "kernelspec": {
   "display_name": "Python 3",
   "language": "python",
   "name": "python3"
  },
  "language_info": {
   "codemirror_mode": {
    "name": "ipython",
    "version": 3
   },
   "file_extension": ".py",
   "mimetype": "text/x-python",
   "name": "python",
   "nbconvert_exporter": "python",
   "pygments_lexer": "ipython3",
   "version": "3.6.4"
  }
 },
 "nbformat": 4,
 "nbformat_minor": 2
}
