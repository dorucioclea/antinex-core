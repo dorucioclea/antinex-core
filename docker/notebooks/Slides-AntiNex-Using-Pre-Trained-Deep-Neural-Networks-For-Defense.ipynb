{
 "cells": [
  {
   "cell_type": "markdown",
   "metadata": {
    "slideshow": {
     "slide_type": "slide"
    }
   },
   "source": [
    "## Using AntiNex to Make Predictions with a Pre-trained Deep Neural Network\n",
    "\n",
    "![alt text](https://imgur.com/uXO9dCE.png \"AntiNex Image\")\n",
    "\n",
    "#### This notebook requires running the AntiNex stack locally. The easiest way is to use docker-compose, but you can also run it manually."
   ]
  },
  {
   "cell_type": "markdown",
   "metadata": {
    "slideshow": {
     "slide_type": "slide"
    }
   },
   "source": [
    "## What is AntiNex?\n",
    "\n",
    "AntiNex is a free tool for helping anyone defend against software attacks. It helps users train highly accurate Deep Neural Networks (dnn’s) from specialized datasets. These datasets are captured network traffic packets in the OSI layers 2, 3, 4 and 5. Once labeled as attack and non-attack records, you can use your dnn’s for identifying attack records across the network. With this approach, AntiNex can predict attacks on web applications like: Django, Flask, React and Redux, Vue, and Spring with repeatable accuracies above **99.8%**. By default just one AntiNex Core (core) worker manages 100 pre-trained dnn’s in memory for making faster predictions and support for manual retraining as needed based off new datasets."
   ]
  },
  {
   "cell_type": "markdown",
   "metadata": {
    "slideshow": {
     "slide_type": "slide"
    }
   },
   "source": [
    "## For the Latest Documentation\n",
    "\n",
    "http://antinex.readthedocs.io/en/latest"
   ]
  },
  {
   "cell_type": "markdown",
   "metadata": {
    "slideshow": {
     "slide_type": "slide"
    }
   },
   "source": [
    "## Running AntiNex with Docker-Compose\n",
    "\n",
    "\n",
    "If you have docker-compose you can run the following commands to download all the containers and run the full stack locally (the [ai-core container](https://hub.docker.com/r/jayjohnson/ai-core/) is ~2.5 GB so it can take a couple minutes to download):\n",
    "\n",
    "Create a python 3 virtualenv, install the AntiNex Python Client and clone the Repo:\n",
    "\n",
    "```\n",
    "virtualenv -p python3 ~/.venvs/testing\n",
    "source ~/.venvs/testing/bin/activate\n",
    "pip install antinex-client\n",
    "git clone https://github.com/jay-johnson/train-ai-with-django-swagger-jwt /opt/antinex-api\n",
    "cd /opt/antinex-api\n",
    "```\n"
   ]
  },
  {
   "cell_type": "markdown",
   "metadata": {
    "slideshow": {
     "slide_type": "slide"
    }
   },
   "source": [
    "## Start the AntiNex Stack\n",
    "\n",
    "This will start docker containers running: the ai-core, Jupyter, Redis, Postgres, and pgAdmin.\n",
    "\n",
    "This can take a few minutes to download. Here is the docker compose file if you want to review it before you run something on your system:\n",
    "https://github.com/jay-johnson/train-ai-with-django-swagger-jwt/blob/master/compose.yml\n",
    "\n",
    "\n",
    "```\n",
    "./run-all.sh \n",
    "Starting all containers with: compose.yml\n",
    "Creating redis    ... done\n",
    "Creating jupyter  ... done\n",
    "Creating pgadmin  ... done\n",
    "Creating postgres ... done\n",
    "Creating api      ... done\n",
    "Creating core     ... done\n",
    "Creating worker   ... done\n",
    "Creating pipeline ... done\n",
    "```"
   ]
  },
  {
   "cell_type": "markdown",
   "metadata": {
    "slideshow": {
     "slide_type": "slide"
    }
   },
   "source": [
    "## Verify AntiNex is Running\n",
    "\n",
    "```\n",
    "docker ps\n",
    "CONTAINER ID        IMAGE                       COMMAND                  CREATED             STATUS              PORTS                    NAMES\n",
    "cb0d0e8e582e        jayjohnson/ai-core:latest   \"/bin/sh -c 'cd /opt…\"   33 seconds ago      Up 32 seconds                                worker\n",
    "4b0c44c99472        jayjohnson/ai-core:latest   \"/bin/sh -c 'cd /opt…\"   33 seconds ago      Up 32 seconds                                pipeline\n",
    "bd3c488036dd        jayjohnson/ai-core:latest   \"/bin/sh -c 'cd /opt…\"   34 seconds ago      Up 33 seconds                                core\n",
    "a3093e2632b7        jayjohnson/ai-core:latest   \"/bin/sh -c 'cd /opt…\"   34 seconds ago      Up 33 seconds                                api\n",
    "3839a0af82ec        jayjohnson/pgadmin4:1.0.0   \"python ./usr/local/…\"   35 seconds ago      Up 33 seconds       0.0.0.0:83->5050/tcp     pgadmin\n",
    "b4ea601f28cd        redis:4.0.5-alpine          \"docker-entrypoint.s…\"   35 seconds ago      Up 33 seconds       0.0.0.0:6379->6379/tcp   redis\n",
    "c5eb07041509        postgres:10.2-alpine        \"docker-entrypoint.s…\"   35 seconds ago      Up 34 seconds       0.0.0.0:5432->5432/tcp   postgres\n",
    "9da0440864e0        jayjohnson/ai-core:latest   \"/opt/antinex-core/d…\"   35 seconds ago      Up 34 seconds                                jupyter\n",
    "```\n"
   ]
  },
  {
   "cell_type": "markdown",
   "metadata": {
    "slideshow": {
     "slide_type": "slide"
    }
   },
   "source": [
    "## Migrate the DB\n",
    "\n",
    "SSH into the Django container and run the migration to set up the database:\n",
    "\n",
    "```\n",
    "docker exec -it worker bash\n",
    "cd /opt/antinex-api\n",
    "./run-migrations.sh\n",
    "exit\n",
    "```\n"
   ]
  },
  {
   "cell_type": "markdown",
   "metadata": {
    "slideshow": {
     "slide_type": "slide"
    }
   },
   "source": [
    "## Here's how to Watch what the Containers are Doing\n",
    "\n",
    "From the ``/opt/antinex-api`` directory you can use these shell scripts to watch the logs on the following containers:\n",
    "\n",
    "### AntiNex Core:\n",
    "docker logs -f core\n",
    "\n",
    "### AntiNex REST API:\n",
    "docker logs -f api\n",
    "\n",
    "### AntiNex REST API Celery Worker:\n",
    "docker logs -f worker"
   ]
  },
  {
   "cell_type": "markdown",
   "metadata": {
    "slideshow": {
     "slide_type": "slide"
    }
   },
   "source": [
    "## Set Up the AntiNex Client"
   ]
  },
  {
   "cell_type": "code",
   "execution_count": 1,
   "metadata": {
    "livereveal": {
     "theme": "serif",
     "transition": "zoom"
    },
    "slideshow": {
     "slide_type": "slide"
    }
   },
   "outputs": [],
   "source": [
    "import os\n",
    "import sys\n",
    "import json\n",
    "import pandas as pd\n",
    "from antinex_client.log.setup_logging import build_colorized_logger\n",
    "from antinex_client.utils import ev\n",
    "from antinex_client.utils import ppj\n",
    "from antinex_client.ai_client import AIClient\n",
    "from antinex_client.consts import LOGIN_FAILED\n",
    "from antinex_client.consts import SUCCESS\n",
    "from antinex_client.consts import ERROR\n",
    "from antinex_client.consts import FAILED\n",
    "import matplotlib.pyplot as plt\n",
    "import seaborn as sns"
   ]
  },
  {
   "cell_type": "markdown",
   "metadata": {
    "slideshow": {
     "slide_type": "slide"
    }
   },
   "source": [
    "## Name this Analysis and set up the logger"
   ]
  },
  {
   "cell_type": "code",
   "execution_count": 2,
   "metadata": {
    "slideshow": {
     "slide_type": "slide"
    }
   },
   "outputs": [
    {
     "name": "stdout",
     "output_type": "stream",
     "text": [
      "\u001b[32m2018-03-30 19:32:50,878 - ai-protect-django - INFO - starting from notebook\u001b[0m\n"
     ]
    }
   ],
   "source": [
    "name = \"ai-protect-django\"\n",
    "log = build_colorized_logger(name=name)\n",
    "log.info(\"starting from notebook\")"
   ]
  },
  {
   "cell_type": "markdown",
   "metadata": {
    "slideshow": {
     "slide_type": "slide"
    }
   },
   "source": [
    "## Set Up Credentials\n",
    "\n",
    "By default the only allowed user on the system is **root** with a password of **123321**."
   ]
  },
  {
   "cell_type": "code",
   "execution_count": 3,
   "metadata": {
    "slideshow": {
     "slide_type": "slide"
    }
   },
   "outputs": [
    {
     "name": "stdout",
     "output_type": "stream",
     "text": [
      "\u001b[32m2018-03-30 19:32:50,900 - ai-protect-django - INFO - Using user=root with AntiNex running at url=http://localhost:8080 datafile=/opt/antinex-api/tests/only-publish-scaler-full-django.json\u001b[0m\n"
     ]
    }
   ],
   "source": [
    "user = ev(\"ANTINEX_USER\", \"root\")\n",
    "password = ev(\"ANTINEX_PUBLISH_TO_CORE\", \"123321\")\n",
    "email = ev(\"ANTINEX_EMAIL\", \"notreal@email.com\")\n",
    "url = ev(\"ANTINEX_URL\", \"http://localhost:8080\")\n",
    "datafile = ev(\"DATAFILE\", \"/opt/antinex-api/tests/only-publish-scaler-full-django.json\")\n",
    "verbose = bool(str(ev(\"API_VERBOSE\", \"true\")).lower() == \"true\")\n",
    "debug = bool(str(ev(\"API_DEBUG\", \"false\")).lower() == \"true\")\n",
    "\n",
    "if not os.path.exists(datafile):\n",
    "    log.error(\"Did not find datafile={}\".format(datafile))\n",
    "else:\n",
    "    log.info(\"Using user={} with AntiNex running at url={} datafile={}\".format(user, url, datafile))"
   ]
  },
  {
   "cell_type": "markdown",
   "metadata": {
    "slideshow": {
     "slide_type": "slide"
    }
   },
   "source": [
    "## Create the AntiNex Client\n",
    "\n",
    "The AntiNex Client repository is available here:\n",
    "\n",
    "https://github.com/jay-johnson/antinex-client"
   ]
  },
  {
   "cell_type": "code",
   "execution_count": 4,
   "metadata": {
    "slideshow": {
     "slide_type": "slide"
    }
   },
   "outputs": [],
   "source": [
    "# https://github.com/jay-johnson/antinex-client/blob/master/antinex_client/ai_client.py\n",
    "client = AIClient(\n",
    "    user=user,\n",
    "    email=email,\n",
    "    password=password,\n",
    "    url=url,\n",
    "    verbose=verbose,\n",
    "    debug=debug)"
   ]
  },
  {
   "cell_type": "code",
   "execution_count": 5,
   "metadata": {
    "slideshow": {
     "slide_type": "slide"
    }
   },
   "outputs": [
    {
     "name": "stdout",
     "output_type": "stream",
     "text": [
      "\u001b[32m2018-03-30 19:32:50,917 - ai-protect-django - INFO - loaded request_file=/opt/antinex-api/tests/only-publish-scaler-full-django.json which will be POST-ed as an HTTP JSON dictionary={\n",
      "    \"batch_size\": 32,\n",
      "    \"dataset\": \"/opt/antinex-datasets/v1/webapps/django/training-ready/v1_django_cleaned.csv\",\n",
      "    \"epochs\": 15,\n",
      "    \"features_to_process\": [\n",
      "        \"idx\",\n",
      "        \"arp_hwlen\",\n",
      "        \"arp_hwtype\",\n",
      "        \"arp_id\",\n",
      "        \"arp_op\",\n",
      "        \"arp_plen\",\n",
      "        \"arp_ptype\",\n",
      "        \"dns_default_aa\",\n",
      "        \"dns_default_ad\",\n",
      "        \"dns_default_an\",\n",
      "        \"dns_default_ancount\",\n",
      "        \"dns_default_ar\",\n",
      "        \"dns_default_arcount\",\n",
      "        \"dns_default_cd\",\n",
      "        \"dns_default_id\",\n",
      "        \"dns_default_length\",\n",
      "        \"dns_default_ns\",\n",
      "        \"dns_default_nscount\",\n",
      "        \"dns_default_opcode\",\n",
      "        \"dns_default_qd\",\n",
      "        \"dns_default_qdcount\",\n",
      "        \"dns_default_qr\",\n",
      "        \"dns_default_ra\",\n",
      "        \"dns_default_rcode\",\n",
      "        \"dns_default_rd\",\n",
      "        \"dns_default_tc\",\n",
      "        \"dns_default_z\",\n",
      "        \"dns_id\",\n",
      "        \"eth_id\",\n",
      "        \"eth_type\",\n",
      "        \"icmp_addr_mask\",\n",
      "        \"icmp_code\",\n",
      "        \"icmp_gw\",\n",
      "        \"icmp_id\",\n",
      "        \"icmp_ptr\",\n",
      "        \"icmp_seq\",\n",
      "        \"icmp_ts_ori\",\n",
      "        \"icmp_ts_rx\",\n",
      "        \"icmp_ts_tx\",\n",
      "        \"icmp_type\",\n",
      "        \"icmp_unused\",\n",
      "        \"ip_id\",\n",
      "        \"ip_ihl\",\n",
      "        \"ip_len\",\n",
      "        \"ip_tos\",\n",
      "        \"ip_version\",\n",
      "        \"ipv6_fl\",\n",
      "        \"ipv6_hlim\",\n",
      "        \"ipv6_nh\",\n",
      "        \"ipv6_plen\",\n",
      "        \"ipv6_tc\",\n",
      "        \"ipv6_version\",\n",
      "        \"ipvsix_id\",\n",
      "        \"pad_id\",\n",
      "        \"tcp_dport\",\n",
      "        \"tcp_fields_options.MSS\",\n",
      "        \"tcp_fields_options.NOP\",\n",
      "        \"tcp_fields_options.SAckOK\",\n",
      "        \"tcp_fields_options.Timestamp\",\n",
      "        \"tcp_fields_options.WScale\",\n",
      "        \"tcp_id\",\n",
      "        \"tcp_seq\",\n",
      "        \"tcp_sport\",\n",
      "        \"udp_dport\",\n",
      "        \"udp_id\",\n",
      "        \"udp_len\",\n",
      "        \"udp_sport\"\n",
      "    ],\n",
      "    \"histories\": [\n",
      "        \"val_loss\",\n",
      "        \"val_acc\",\n",
      "        \"loss\",\n",
      "        \"acc\"\n",
      "    ],\n",
      "    \"ignore_features\": [],\n",
      "    \"label\": \"Full-Django-AntiNex-Simple-Scaler-DNN\",\n",
      "    \"label_rules\": {\n",
      "        \"label_values\": [\n",
      "            -1,\n",
      "            0,\n",
      "            1\n",
      "        ],\n",
      "        \"labels\": [\n",
      "            \"not_attack\",\n",
      "            \"not_attack\",\n",
      "            \"attack\"\n",
      "        ]\n",
      "    },\n",
      "    \"loss\": \"binary_crossentropy\",\n",
      "    \"metrics\": [\n",
      "        \"accuracy\"\n",
      "    ],\n",
      "    \"ml_type\": \"classification\",\n",
      "    \"model_desc\": {\n",
      "        \"layers\": [\n",
      "            {\n",
      "                \"activation\": \"relu\",\n",
      "                \"init\": \"uniform\",\n",
      "                \"num_neurons\": 200\n",
      "            },\n",
      "            {\n",
      "                \"activation\": \"sigmoid\",\n",
      "                \"init\": \"uniform\",\n",
      "                \"num_neurons\": 1\n",
      "            }\n",
      "        ]\n",
      "    },\n",
      "    \"num_splits\": 2,\n",
      "    \"optimizer\": \"adam\",\n",
      "    \"predict_feature\": \"label_value\",\n",
      "    \"publish_to_core\": true,\n",
      "    \"seed\": 42,\n",
      "    \"sort_values\": [],\n",
      "    \"test_size\": 0.2,\n",
      "    \"version\": 1\n",
      "}\u001b[0m\n"
     ]
    }
   ],
   "source": [
    "# Load the dataset file as an dictionary\n",
    "req_body = None\n",
    "with open(datafile, \"r\") as f:\n",
    "    req_body = json.loads(f.read())\n",
    "    \n",
    "log.info(\"loaded request_file={} which will be POST-ed as an HTTP JSON dictionary={}\".format(datafile, ppj(req_body)))"
   ]
  },
  {
   "cell_type": "markdown",
   "metadata": {
    "slideshow": {
     "slide_type": "slide"
    }
   },
   "source": [
    "## Load the Model into the AntiNex Core\n",
    "\n",
    "This will take a few moments"
   ]
  },
  {
   "cell_type": "code",
   "execution_count": 6,
   "metadata": {
    "slideshow": {
     "slide_type": "slide"
    }
   },
   "outputs": [
    {
     "name": "stdout",
     "output_type": "stream",
     "text": [
      "\u001b[32m2018-03-30 19:32:50,924 - ai-protect-django - INFO - starting job\u001b[0m\n",
      "\u001b[32m2018-03-30 19:32:50,925 - ai-client - INFO - user=root starting job={'label': 'Full-Django-AntiNex-S\u001b[0m\n",
      "\u001b[32m2018-03-30 19:32:50,934 - ai-client - INFO - log in user=root url=http://localhost:8080/api-token-auth/ ca_file=None cert=None\u001b[0m\n",
      "\u001b[32m2018-03-30 19:32:51,138 - ai-client - INFO - added job=13 result=13 all_jobs=1 all_results=1\u001b[0m\n",
      "\u001b[32m2018-03-30 19:32:51,140 - ai-protect-django - INFO - done with job\u001b[0m\n"
     ]
    }
   ],
   "source": [
    "log.info(\"starting job\")\n",
    "response = client.run_job(body=req_body)\n",
    "log.info(\"done with job\")"
   ]
  },
  {
   "cell_type": "code",
   "execution_count": 7,
   "metadata": {
    "slideshow": {
     "slide_type": "slide"
    }
   },
   "outputs": [
    {
     "name": "stdout",
     "output_type": "stream",
     "text": [
      "\u001b[32m2018-03-30 19:32:51,165 - ai-protect-django - INFO - job started successfully with response={\n",
      "    \"job\": {\n",
      "        \"algo_name\": \"Full-Django-AntiNex-Simple-Scaler-DNN\",\n",
      "        \"control_state\": \"active\",\n",
      "        \"created\": \"2018-03-30 19:32:51\",\n",
      "        \"deleted\": \"\",\n",
      "        \"desc\": null,\n",
      "        \"ds_name\": \"Full-Django-AntiNex-Simple-Scaler-DNN\",\n",
      "        \"id\": 13,\n",
      "        \"meta_data\": {},\n",
      "        \"ml_type\": \"classification\",\n",
      "        \"post_proc\": {},\n",
      "        \"pre_proc\": {},\n",
      "        \"predict_feature\": \"label_value\",\n",
      "        \"predict_manifest\": {\n",
      "            \"apply_scaler\": true,\n",
      "            \"batch_size\": 32,\n",
      "            \"csv_file\": null,\n",
      "            \"dataset\": \"/opt/antinex-datasets/v1/webapps/django/training-ready/v1_django_cleaned.csv\",\n",
      "            \"epochs\": 15,\n",
      "            \"features_to_process\": [\n",
      "                \"idx\",\n",
      "                \"arp_hwlen\",\n",
      "                \"arp_hwtype\",\n",
      "                \"arp_id\",\n",
      "                \"arp_op\",\n",
      "                \"arp_plen\",\n",
      "                \"arp_ptype\",\n",
      "                \"dns_default_aa\",\n",
      "                \"dns_default_ad\",\n",
      "                \"dns_default_an\",\n",
      "                \"dns_default_ancount\",\n",
      "                \"dns_default_ar\",\n",
      "                \"dns_default_arcount\",\n",
      "                \"dns_default_cd\",\n",
      "                \"dns_default_id\",\n",
      "                \"dns_default_length\",\n",
      "                \"dns_default_ns\",\n",
      "                \"dns_default_nscount\",\n",
      "                \"dns_default_opcode\",\n",
      "                \"dns_default_qd\",\n",
      "                \"dns_default_qdcount\",\n",
      "                \"dns_default_qr\",\n",
      "                \"dns_default_ra\",\n",
      "                \"dns_default_rcode\",\n",
      "                \"dns_default_rd\",\n",
      "                \"dns_default_tc\",\n",
      "                \"dns_default_z\",\n",
      "                \"dns_id\",\n",
      "                \"eth_id\",\n",
      "                \"eth_type\",\n",
      "                \"icmp_addr_mask\",\n",
      "                \"icmp_code\",\n",
      "                \"icmp_gw\",\n",
      "                \"icmp_id\",\n",
      "                \"icmp_ptr\",\n",
      "                \"icmp_seq\",\n",
      "                \"icmp_ts_ori\",\n",
      "                \"icmp_ts_rx\",\n",
      "                \"icmp_ts_tx\",\n",
      "                \"icmp_type\",\n",
      "                \"icmp_unused\",\n",
      "                \"ip_id\",\n",
      "                \"ip_ihl\",\n",
      "                \"ip_len\",\n",
      "                \"ip_tos\",\n",
      "                \"ip_version\",\n",
      "                \"ipv6_fl\",\n",
      "                \"ipv6_hlim\",\n",
      "                \"ipv6_nh\",\n",
      "                \"ipv6_plen\",\n",
      "                \"ipv6_tc\",\n",
      "                \"ipv6_version\",\n",
      "                \"ipvsix_id\",\n",
      "                \"pad_id\",\n",
      "                \"tcp_dport\",\n",
      "                \"tcp_fields_options.MSS\",\n",
      "                \"tcp_fields_options.NOP\",\n",
      "                \"tcp_fields_options.SAckOK\",\n",
      "                \"tcp_fields_options.Timestamp\",\n",
      "                \"tcp_fields_options.WScale\",\n",
      "                \"tcp_id\",\n",
      "                \"tcp_seq\",\n",
      "                \"tcp_sport\",\n",
      "                \"udp_dport\",\n",
      "                \"udp_id\",\n",
      "                \"udp_len\",\n",
      "                \"udp_sport\"\n",
      "            ],\n",
      "            \"histories\": [\n",
      "                \"val_loss\",\n",
      "                \"val_acc\",\n",
      "                \"loss\",\n",
      "                \"acc\"\n",
      "            ],\n",
      "            \"ignore_features\": [],\n",
      "            \"job_id\": 13,\n",
      "            \"label_rules\": {\n",
      "                \"label_values\": [\n",
      "                    -1,\n",
      "                    0,\n",
      "                    1\n",
      "                ],\n",
      "                \"labels\": [\n",
      "                    \"not_attack\",\n",
      "                    \"not_attack\",\n",
      "                    \"attack\"\n",
      "                ]\n",
      "            },\n",
      "            \"loss\": \"binary_crossentropy\",\n",
      "            \"meta_file\": null,\n",
      "            \"metrics\": [\n",
      "                \"accuracy\"\n",
      "            ],\n",
      "            \"ml_type\": \"classification\",\n",
      "            \"model_desc\": {\n",
      "                \"layers\": [\n",
      "                    {\n",
      "                        \"activation\": \"relu\",\n",
      "                        \"init\": \"uniform\",\n",
      "                        \"num_neurons\": 200\n",
      "                    },\n",
      "                    {\n",
      "                        \"activation\": \"sigmoid\",\n",
      "                        \"init\": \"uniform\",\n",
      "                        \"num_neurons\": 1\n",
      "                    }\n",
      "                ]\n",
      "            },\n",
      "            \"model_weights_file\": \"/tmp/ml_weights_job_13_result_13.h5\",\n",
      "            \"num_splits\": 2,\n",
      "            \"optimizer\": \"adam\",\n",
      "            \"post_proc_rules\": null,\n",
      "            \"predict_feature\": \"label_value\",\n",
      "            \"predict_rows\": null,\n",
      "            \"publish_to_core\": true,\n",
      "            \"result_id\": 13,\n",
      "            \"seed\": 42,\n",
      "            \"sort_values\": [],\n",
      "            \"test_size\": 0.2,\n",
      "            \"training_data\": {},\n",
      "            \"use_model_name\": \"Full-Django-AntiNex-Simple-Scaler-DNN\",\n",
      "            \"verbose\": 1,\n",
      "            \"version\": 1,\n",
      "            \"worker_result_node\": {\n",
      "                \"auth_url\": \"redis://localhost:6379/9\",\n",
      "                \"delivery_mode\": 2,\n",
      "                \"exchange\": \"drf_network_pipeline.pipeline.tasks.task_ml_process_results\",\n",
      "                \"exchange_type\": \"topic\",\n",
      "                \"manifest\": {\n",
      "                    \"job_id\": 13,\n",
      "                    \"job_type\": \"train-and-predict\",\n",
      "                    \"result_id\": 13\n",
      "                },\n",
      "                \"queue\": \"drf_network_pipeline.pipeline.tasks.task_ml_process_results\",\n",
      "                \"routing_key\": \"drf_network_pipeline.pipeline.tasks.task_ml_process_results\",\n",
      "                \"source\": \"drf\",\n",
      "                \"ssl_options\": {},\n",
      "                \"task_name\": \"drf_network_pipeline.pipeline.tasks.task_ml_process_results\"\n",
      "            }\n",
      "        },\n",
      "        \"status\": \"initial\",\n",
      "        \"title\": \"Full-Django-AntiNex-Simple-Scaler-DNN\",\n",
      "        \"tracking_id\": \"ml_40f51584-37a5-4d34-9648-b5c621f4f177\",\n",
      "        \"training_data\": {},\n",
      "        \"updated\": \"2018-03-30 19:32:51\",\n",
      "        \"user_id\": 1,\n",
      "        \"user_name\": \"root\",\n",
      "        \"version\": 1\n",
      "    },\n",
      "    \"results\": {\n",
      "        \"acc_data\": {\n",
      "            \"accuracy\": -1.0\n",
      "        },\n",
      "        \"acc_image_file\": null,\n",
      "        \"created\": \"2018-03-30 19:32:51\",\n",
      "        \"csv_file\": null,\n",
      "        \"deleted\": \"\",\n",
      "        \"error_data\": null,\n",
      "        \"id\": 13,\n",
      "        \"job_id\": 13,\n",
      "        \"meta_file\": null,\n",
      "        \"model_json\": null,\n",
      "        \"model_weights\": null,\n",
      "        \"predictions_json\": null,\n",
      "        \"status\": \"initial\",\n",
      "        \"test_size\": 0.2,\n",
      "        \"updated\": \"2018-03-30 19:32:51\",\n",
      "        \"user_id\": 1,\n",
      "        \"user_name\": \"root\",\n",
      "        \"version\": 1\n",
      "    }\n",
      "}\u001b[0m\n"
     ]
    }
   ],
   "source": [
    "# Handle Response Results\n",
    "if response[\"status\"] == SUCCESS:\n",
    "    log.info((\"job started successfully with response={}\")\n",
    "             .format(ppj(response[\"data\"])))\n",
    "elif response[\"status\"] == FAILED:\n",
    "    log.error((\"job failed with error='{}' with response={}\")\n",
    "              .format(response[\"error\"], ppj(response[\"data\"])))\n",
    "elif response[\"status\"] == ERROR:\n",
    "    log.error((\"job had an error='{}' with response={}\")\n",
    "              .format(response[\"error\"], ppj(response[\"data\"])))\n",
    "elif response[\"status\"] == LOGIN_FAILED:\n",
    "    log.error((\"job reported user was not able to log in \"\n",
    "               \"with an error='{}' with response={}\")\n",
    "              .format(response[\"error\"], ppj(response[\"data\"]))) "
   ]
  },
  {
   "cell_type": "markdown",
   "metadata": {
    "slideshow": {
     "slide_type": "slide"
    }
   },
   "source": [
    "## How AntiNex Trains a Deep Neural Network\n",
    "\n",
    "![Training a Deep Neural Network](https://imgur.com/M1vwVoW.png \"Training a Deep Neural Network\")"
   ]
  },
  {
   "cell_type": "markdown",
   "metadata": {
    "slideshow": {
     "slide_type": "slide"
    }
   },
   "source": [
    "## Wait for the Training Job to Finish\n",
    "\n",
    "This can take a few minutes depending on how fast your system is..."
   ]
  },
  {
   "cell_type": "code",
   "execution_count": 8,
   "metadata": {
    "slideshow": {
     "slide_type": "slide"
    }
   },
   "outputs": [],
   "source": [
    "res_data = response[\"data\"]\n",
    "job_data = res_data.get(\"job\", None)\n",
    "result_data = res_data.get(\"results\", None)\n",
    "if not job_data:\n",
    "    log.error((\"missing job dictionary in response data={}\")\n",
    "              .format(response[\"data\"]))\n",
    "if not result_data:\n",
    "    log.error((\"missing results dictionary in response data={}\")\n",
    "              .format(response[\"data\"]))"
   ]
  },
  {
   "cell_type": "code",
   "execution_count": 9,
   "metadata": {
    "slideshow": {
     "slide_type": "slide"
    }
   },
   "outputs": [
    {
     "name": "stdout",
     "output_type": "stream",
     "text": [
      "\u001b[32m2018-03-30 19:32:51,217 - ai-protect-django - INFO - started job.id=13 job.status=initial with result.id=13 result.status=initial\u001b[0m\n"
     ]
    }
   ],
   "source": [
    "job_id = job_data.get(\"id\", None)\n",
    "job_status = job_data.get(\"status\", None)\n",
    "result_id = result_data.get(\"id\", None)\n",
    "result_status = result_data.get(\"status\", None)\n",
    "\n",
    "log.info((\"started job.id={} job.status={} with result.id={} result.status={}\")\n",
    "         .format(job_id, job_status, result_id, result_status))\n",
    "\n",
    "job_results = client.wait_for_job_to_finish(job_id=job_id)\n",
    "if job_results[\"status\"] != SUCCESS:\n",
    "    log.error((\"failed waiting for job.id={} to finish error={} data={}\")\n",
    "              .format(job_id, job_results[\"error\"], job_results[\"data\"]))"
   ]
  },
  {
   "cell_type": "code",
   "execution_count": 10,
   "metadata": {
    "slideshow": {
     "slide_type": "slide"
    }
   },
   "outputs": [],
   "source": [
    "final_job = job_results[\"data\"][\"job\"]\n",
    "final_result = job_results[\"data\"][\"result\"]\n",
    "accuracy = final_result[\"acc_data\"][\"accuracy\"]\n",
    "predictions = final_result[\"predictions_json\"].get(\"predictions\", [])"
   ]
  },
  {
   "cell_type": "code",
   "execution_count": 11,
   "metadata": {
    "slideshow": {
     "slide_type": "slide"
    }
   },
   "outputs": [
    {
     "name": "stdout",
     "output_type": "stream",
     "text": [
      "\u001b[32m2018-03-30 19:33:21,230 - ai-protect-django - INFO - loading predictions=30200 with accuracy=99.82615894039735 into pandas dataframe\u001b[0m\n",
      "\u001b[32m2018-03-30 19:33:21,763 - ai-protect-django - INFO - columns in dataframe with columns=['_count' '_original_label_value' '_row_idx' 'arp_hwlen' 'arp_hwtype'\n",
      " 'arp_id' 'arp_op' 'arp_plen' 'arp_ptype' 'dns_default_aa'\n",
      " 'dns_default_ad' 'dns_default_an' 'dns_default_ancount' 'dns_default_ar'\n",
      " 'dns_default_arcount' 'dns_default_cd' 'dns_default_id'\n",
      " 'dns_default_length' 'dns_default_ns' 'dns_default_nscount'\n",
      " 'dns_default_opcode' 'dns_default_qd' 'dns_default_qdcount'\n",
      " 'dns_default_qr' 'dns_default_ra' 'dns_default_rcode' 'dns_default_rd'\n",
      " 'dns_default_tc' 'dns_default_z' 'dns_id' 'eth_id' 'eth_type'\n",
      " 'icmp_addr_mask' 'icmp_code' 'icmp_gw' 'icmp_id' 'icmp_ptr' 'icmp_seq'\n",
      " 'icmp_ts_ori' 'icmp_ts_rx' 'icmp_ts_tx' 'icmp_type' 'icmp_unused' 'idx'\n",
      " 'ip_id' 'ip_ihl' 'ip_len' 'ip_tos' 'ip_version' 'ipv6_fl' 'ipv6_hlim'\n",
      " 'ipv6_nh' 'ipv6_plen' 'ipv6_tc' 'ipv6_version' 'ipvsix_id' 'label_name'\n",
      " 'label_value' 'pad_id' 'tcp_dport' 'tcp_fields_options.MSS'\n",
      " 'tcp_fields_options.NOP' 'tcp_fields_options.SAckOK'\n",
      " 'tcp_fields_options.Timestamp' 'tcp_fields_options.WScale' 'tcp_id'\n",
      " 'tcp_seq' 'tcp_sport' 'udp_dport' 'udp_id' 'udp_len' 'udp_sport']\u001b[0m\n"
     ]
    }
   ],
   "source": [
    "log.info((\"loading predictions={} with accuracy={} into pandas dataframe\")\n",
    "         .format(len(predictions), accuracy))\n",
    "\n",
    "train_results_df = pd.DataFrame(predictions)\n",
    "\n",
    "log.info((\"columns in dataframe with columns={}\"\n",
    "          .format(train_results_df.columns.values)))"
   ]
  },
  {
   "cell_type": "markdown",
   "metadata": {
    "slideshow": {
     "slide_type": "slide"
    }
   },
   "source": [
    "## Process Predictions and Determine Actual Accuracy"
   ]
  },
  {
   "cell_type": "code",
   "execution_count": 12,
   "metadata": {
    "slideshow": {
     "slide_type": "slide"
    }
   },
   "outputs": [],
   "source": [
    "# this can lock up your notebook if you set it to True... give it a minute to finish\n",
    "show_success = False\n",
    "show_error = False\n",
    "\n",
    "predict_feature = \"label_value\"\n",
    "org_value_col = \"_original_{}\".format(predict_feature)\n",
    "num_misses = 0\n",
    "actual_train_results = []\n",
    "for row_num, row in train_results_df.iterrows():\n",
    "    org_value = row[org_value_col]\n",
    "    predicted_value = row[predict_feature]\n",
    "    if (org_value == -1.0 and predicted_value != 0) or (org_value == 1.0 and predicted_value != 1):\n",
    "        if show_error:\n",
    "            log.error((\"row={} original_{}={} predicted={}\")\n",
    "                      .format(\n",
    "                        row_num,\n",
    "                        predict_feature,\n",
    "                        org_value,\n",
    "                        predicted_value))\n",
    "        num_misses += 1\n",
    "        actual_train_results.append({\"label\": \"bad\", \"prediction_status\": 1})\n",
    "    else:\n",
    "        if show_success:\n",
    "            log.info((\"row={} original_{}={} predicted={}\")\n",
    "                     .format(\n",
    "                        row_num,\n",
    "                        predict_feature,\n",
    "                        org_value,\n",
    "                        predicted_value))\n",
    "        actual_train_results.append({\"label\": \"good\", \"prediction_status\": 0})\n",
    "# end seeing original vs predicted"
   ]
  },
  {
   "cell_type": "markdown",
   "metadata": {
    "slideshow": {
     "slide_type": "slide"
    }
   },
   "source": [
    "## Show Actual Accuracy and Incorrect Predictions"
   ]
  },
  {
   "cell_type": "code",
   "execution_count": 13,
   "metadata": {
    "slideshow": {
     "slide_type": "slide"
    }
   },
   "outputs": [
    {
     "name": "stdout",
     "output_type": "stream",
     "text": [
      "\u001b[32m2018-03-30 19:33:24,142 - ai-protect-django - INFO - Number of Incorrect Predictions: 45/30200\u001b[0m\n",
      "\u001b[32m2018-03-30 19:33:24,148 - ai-protect-django - INFO - Predicted Accuracy was: 0.9985099337748344%\u001b[0m\n"
     ]
    }
   ],
   "source": [
    "total_rows = len(train_results_df.index)\n",
    "predicted_accuracy = 1.0 - float(float(num_misses) / float(total_rows))\n",
    "\n",
    "log.info(\"Number of Incorrect Predictions: {}/{}\".format(num_misses, total_rows))\n",
    "log.info(\"Predicted Accuracy was: {}%\".format(predicted_accuracy))"
   ]
  },
  {
   "cell_type": "markdown",
   "metadata": {
    "slideshow": {
     "slide_type": "slide"
    }
   },
   "source": [
    "## Show Prediction Distributions\n",
    "### 0.0 values are Correct predictions\n",
    "### 1.0 values are Incorrect predictions"
   ]
  },
  {
   "cell_type": "code",
   "execution_count": 14,
   "metadata": {
    "slideshow": {
     "slide_type": "slide"
    }
   },
   "outputs": [
    {
     "name": "stderr",
     "output_type": "stream",
     "text": [
      "/opt/venvs/venvdrfpipeline/lib/python3.6/site-packages/matplotlib/axes/_axes.py:6462: UserWarning: The 'normed' kwarg is deprecated, and has been replaced by the 'density' kwarg.\n",
      "  warnings.warn(\"The 'normed' kwarg is deprecated, and has been \"\n"
     ]
    },
    {
     "data": {
      "image/png": "[encoded data removed]",
      "text/plain": [
       "<Figure size 1080x720 with 1 Axes>"
      ]
     },
     "metadata": {},
     "output_type": "display_data"
    }
   ],
   "source": [
    "fig, ax = plt.subplots(figsize=(15.0, 10.0))\n",
    "actual_train_results_df = pd.DataFrame(actual_train_results)\n",
    "ax = sns.distplot(actual_train_results_df[\"prediction_status\"])\n",
    "ax.get_figure().text(0.90, 0.01, \"AntiNex - v1\", va=\"bottom\", fontsize=8, color=\"#888888\")\n",
    "plt.show()"
   ]
  },
  {
   "cell_type": "markdown",
   "metadata": {
    "slideshow": {
     "slide_type": "slide"
    }
   },
   "source": [
    "## Make New Predictions with the Pre-Trained Deep Neural Network"
   ]
  },
  {
   "cell_type": "code",
   "execution_count": 15,
   "metadata": {
    "slideshow": {
     "slide_type": "slide"
    }
   },
   "outputs": [
    {
     "name": "stdout",
     "output_type": "stream",
     "text": [
      "\u001b[32m2018-03-30 19:33:24,606 - ai-protect-django - INFO - starting job\u001b[0m\n",
      "\u001b[32m2018-03-30 19:33:24,609 - ai-client - INFO - user=root starting job={'label': 'Full-Django-AntiNex-S\u001b[0m\n",
      "\u001b[32m2018-03-30 19:33:24,706 - ai-client - INFO - added job=14 result=14 all_jobs=2 all_results=2\u001b[0m\n",
      "\u001b[32m2018-03-30 19:33:24,710 - ai-protect-django - INFO - done with job\u001b[0m\n"
     ]
    }
   ],
   "source": [
    "# use the same HTTP request... AntiNex will do the rest\n",
    "log.info(\"starting job\")\n",
    "new_predictions_response = client.run_job(body=req_body)\n",
    "log.info(\"done with job\")"
   ]
  },
  {
   "cell_type": "markdown",
   "metadata": {
    "slideshow": {
     "slide_type": "slide"
    }
   },
   "source": [
    "## How AntiNex Makes New Predictions using a Pre-trained Deep Neural Network\n",
    "\n",
    "Notice there is no longer a requirement to have the CSV datasets on disk\n",
    "\n",
    "![Predictions using a Pre-trained Deep Neural Network](https://imgur.com/PkjCkZk.png \"Predictions using a Pre-trained Deep Neural Network\")"
   ]
  },
  {
   "cell_type": "code",
   "execution_count": 16,
   "metadata": {
    "slideshow": {
     "slide_type": "slide"
    }
   },
   "outputs": [
    {
     "name": "stdout",
     "output_type": "stream",
     "text": [
      "\u001b[32m2018-03-30 19:33:24,752 - ai-protect-django - INFO - job started successfully with response={\n",
      "    \"job\": {\n",
      "        \"algo_name\": \"Full-Django-AntiNex-Simple-Scaler-DNN\",\n",
      "        \"control_state\": \"active\",\n",
      "        \"created\": \"2018-03-30 19:33:24\",\n",
      "        \"deleted\": \"\",\n",
      "        \"desc\": null,\n",
      "        \"ds_name\": \"Full-Django-AntiNex-Simple-Scaler-DNN\",\n",
      "        \"id\": 14,\n",
      "        \"meta_data\": {},\n",
      "        \"ml_type\": \"classification\",\n",
      "        \"post_proc\": {},\n",
      "        \"pre_proc\": {},\n",
      "        \"predict_feature\": \"label_value\",\n",
      "        \"predict_manifest\": {\n",
      "            \"apply_scaler\": true,\n",
      "            \"batch_size\": 32,\n",
      "            \"csv_file\": null,\n",
      "            \"dataset\": \"/opt/antinex-datasets/v1/webapps/django/training-ready/v1_django_cleaned.csv\",\n",
      "            \"epochs\": 15,\n",
      "            \"features_to_process\": [\n",
      "                \"idx\",\n",
      "                \"arp_hwlen\",\n",
      "                \"arp_hwtype\",\n",
      "                \"arp_id\",\n",
      "                \"arp_op\",\n",
      "                \"arp_plen\",\n",
      "                \"arp_ptype\",\n",
      "                \"dns_default_aa\",\n",
      "                \"dns_default_ad\",\n",
      "                \"dns_default_an\",\n",
      "                \"dns_default_ancount\",\n",
      "                \"dns_default_ar\",\n",
      "                \"dns_default_arcount\",\n",
      "                \"dns_default_cd\",\n",
      "                \"dns_default_id\",\n",
      "                \"dns_default_length\",\n",
      "                \"dns_default_ns\",\n",
      "                \"dns_default_nscount\",\n",
      "                \"dns_default_opcode\",\n",
      "                \"dns_default_qd\",\n",
      "                \"dns_default_qdcount\",\n",
      "                \"dns_default_qr\",\n",
      "                \"dns_default_ra\",\n",
      "                \"dns_default_rcode\",\n",
      "                \"dns_default_rd\",\n",
      "                \"dns_default_tc\",\n",
      "                \"dns_default_z\",\n",
      "                \"dns_id\",\n",
      "                \"eth_id\",\n",
      "                \"eth_type\",\n",
      "                \"icmp_addr_mask\",\n",
      "                \"icmp_code\",\n",
      "                \"icmp_gw\",\n",
      "                \"icmp_id\",\n",
      "                \"icmp_ptr\",\n",
      "                \"icmp_seq\",\n",
      "                \"icmp_ts_ori\",\n",
      "                \"icmp_ts_rx\",\n",
      "                \"icmp_ts_tx\",\n",
      "                \"icmp_type\",\n",
      "                \"icmp_unused\",\n",
      "                \"ip_id\",\n",
      "                \"ip_ihl\",\n",
      "                \"ip_len\",\n",
      "                \"ip_tos\",\n",
      "                \"ip_version\",\n",
      "                \"ipv6_fl\",\n",
      "                \"ipv6_hlim\",\n",
      "                \"ipv6_nh\",\n",
      "                \"ipv6_plen\",\n",
      "                \"ipv6_tc\",\n",
      "                \"ipv6_version\",\n",
      "                \"ipvsix_id\",\n",
      "                \"pad_id\",\n",
      "                \"tcp_dport\",\n",
      "                \"tcp_fields_options.MSS\",\n",
      "                \"tcp_fields_options.NOP\",\n",
      "                \"tcp_fields_options.SAckOK\",\n",
      "                \"tcp_fields_options.Timestamp\",\n",
      "                \"tcp_fields_options.WScale\",\n",
      "                \"tcp_id\",\n",
      "                \"tcp_seq\",\n",
      "                \"tcp_sport\",\n",
      "                \"udp_dport\",\n",
      "                \"udp_id\",\n",
      "                \"udp_len\",\n",
      "                \"udp_sport\"\n",
      "            ],\n",
      "            \"histories\": [\n",
      "                \"val_loss\",\n",
      "                \"val_acc\",\n",
      "                \"loss\",\n",
      "                \"acc\"\n",
      "            ],\n",
      "            \"ignore_features\": [],\n",
      "            \"job_id\": 14,\n",
      "            \"label_rules\": {\n",
      "                \"label_values\": [\n",
      "                    -1,\n",
      "                    0,\n",
      "                    1\n",
      "                ],\n",
      "                \"labels\": [\n",
      "                    \"not_attack\",\n",
      "                    \"not_attack\",\n",
      "                    \"attack\"\n",
      "                ]\n",
      "            },\n",
      "            \"loss\": \"binary_crossentropy\",\n",
      "            \"meta_file\": null,\n",
      "            \"metrics\": [\n",
      "                \"accuracy\"\n",
      "            ],\n",
      "            \"ml_type\": \"classification\",\n",
      "            \"model_desc\": {\n",
      "                \"layers\": [\n",
      "                    {\n",
      "                        \"activation\": \"relu\",\n",
      "                        \"init\": \"uniform\",\n",
      "                        \"num_neurons\": 200\n",
      "                    },\n",
      "                    {\n",
      "                        \"activation\": \"sigmoid\",\n",
      "                        \"init\": \"uniform\",\n",
      "                        \"num_neurons\": 1\n",
      "                    }\n",
      "                ]\n",
      "            },\n",
      "            \"model_weights_file\": \"/tmp/ml_weights_job_14_result_14.h5\",\n",
      "            \"num_splits\": 2,\n",
      "            \"optimizer\": \"adam\",\n",
      "            \"post_proc_rules\": null,\n",
      "            \"predict_feature\": \"label_value\",\n",
      "            \"predict_rows\": null,\n",
      "            \"publish_to_core\": true,\n",
      "            \"result_id\": 14,\n",
      "            \"seed\": 42,\n",
      "            \"sort_values\": [],\n",
      "            \"test_size\": 0.2,\n",
      "            \"training_data\": {},\n",
      "            \"use_model_name\": \"Full-Django-AntiNex-Simple-Scaler-DNN\",\n",
      "            \"verbose\": 1,\n",
      "            \"version\": 1,\n",
      "            \"worker_result_node\": {\n",
      "                \"auth_url\": \"redis://localhost:6379/9\",\n",
      "                \"delivery_mode\": 2,\n",
      "                \"exchange\": \"drf_network_pipeline.pipeline.tasks.task_ml_process_results\",\n",
      "                \"exchange_type\": \"topic\",\n",
      "                \"manifest\": {\n",
      "                    \"job_id\": 14,\n",
      "                    \"job_type\": \"train-and-predict\",\n",
      "                    \"result_id\": 14\n",
      "                },\n",
      "                \"queue\": \"drf_network_pipeline.pipeline.tasks.task_ml_process_results\",\n",
      "                \"routing_key\": \"drf_network_pipeline.pipeline.tasks.task_ml_process_results\",\n",
      "                \"source\": \"drf\",\n",
      "                \"ssl_options\": {},\n",
      "                \"task_name\": \"drf_network_pipeline.pipeline.tasks.task_ml_process_results\"\n",
      "            }\n",
      "        },\n",
      "        \"status\": \"initial\",\n",
      "        \"title\": \"Full-Django-AntiNex-Simple-Scaler-DNN\",\n",
      "        \"tracking_id\": \"ml_abeba756-3681-4f57-8370-0ac39f8bedd8\",\n",
      "        \"training_data\": {},\n",
      "        \"updated\": \"2018-03-30 19:33:24\",\n",
      "        \"user_id\": 1,\n",
      "        \"user_name\": \"root\",\n",
      "        \"version\": 1\n",
      "    },\n",
      "    \"results\": {\n",
      "        \"acc_data\": {\n",
      "            \"accuracy\": -1.0\n",
      "        },\n",
      "        \"acc_image_file\": null,\n",
      "        \"created\": \"2018-03-30 19:33:24\",\n",
      "        \"csv_file\": null,\n",
      "        \"deleted\": \"\",\n",
      "        \"error_data\": null,\n",
      "        \"id\": 14,\n",
      "        \"job_id\": 14,\n",
      "        \"meta_file\": null,\n",
      "        \"model_json\": null,\n",
      "        \"model_weights\": null,\n",
      "        \"predictions_json\": null,\n",
      "        \"status\": \"initial\",\n",
      "        \"test_size\": 0.2,\n",
      "        \"updated\": \"2018-03-30 19:33:24\",\n",
      "        \"user_id\": 1,\n",
      "        \"user_name\": \"root\",\n",
      "        \"version\": 1\n",
      "    }\n",
      "}\u001b[0m\n"
     ]
    }
   ],
   "source": [
    "# Handle New Prediction Response Results\n",
    "if new_predictions_response[\"status\"] == SUCCESS:\n",
    "    log.info((\"job started successfully with response={}\")\n",
    "             .format(ppj(new_predictions_response[\"data\"])))\n",
    "elif new_predictions_response[\"status\"] == FAILED:\n",
    "    log.error((\"job failed with error='{}' with response={}\")\n",
    "              .format(new_predictions_response[\"error\"], ppj(new_predictions_response[\"data\"])))\n",
    "elif new_predictions_response[\"status\"] == ERROR:\n",
    "    log.error((\"job had an error='{}' with response={}\")\n",
    "              .format(new_predictions_response[\"error\"], ppj(new_predictions_response[\"data\"])))\n",
    "elif new_predictions_response[\"status\"] == LOGIN_FAILED:\n",
    "    log.error((\"job reported user was not able to log in \"\n",
    "               \"with an error='{}' with response={}\")\n",
    "              .format(new_predictions_response[\"error\"], ppj(new_predictions_response[\"data\"]))) "
   ]
  },
  {
   "cell_type": "code",
   "execution_count": 17,
   "metadata": {
    "slideshow": {
     "slide_type": "slide"
    }
   },
   "outputs": [],
   "source": [
    "new_res_data = new_predictions_response[\"data\"]\n",
    "new_job_data = new_res_data.get(\"job\", None)\n",
    "new_result_data = new_res_data.get(\"results\", None)\n",
    "if not new_job_data:\n",
    "    log.error((\"missing job dictionary in response data={}\")\n",
    "              .format(new_predictions_response[\"data\"]))\n",
    "if not new_result_data:\n",
    "    log.error((\"missing results dictionary in response data={}\")\n",
    "              .format(new_predictions_response[\"data\"]))"
   ]
  },
  {
   "cell_type": "code",
   "execution_count": 18,
   "metadata": {
    "slideshow": {
     "slide_type": "slide"
    }
   },
   "outputs": [
    {
     "name": "stdout",
     "output_type": "stream",
     "text": [
      "\u001b[32m2018-03-30 19:33:24,805 - ai-protect-django - INFO - started making New Predictions with job.id=14 job.status=initial with result.id=14 result.status=initial\u001b[0m\n"
     ]
    }
   ],
   "source": [
    "# Get the Job and Result DB IDs out\n",
    "new_job_id = new_job_data.get(\"id\", None)\n",
    "new_job_status = new_job_data.get(\"status\", None)\n",
    "new_result_id = new_result_data.get(\"id\", None)\n",
    "new_result_status = new_result_data.get(\"status\", None)\n",
    "\n",
    "log.info((\"started making New Predictions with job.id={} job.status={} with result.id={} result.status={}\")\n",
    "         .format(new_job_id, new_job_status, new_result_id, new_result_status))\n",
    "\n",
    "new_job_results = client.wait_for_job_to_finish(job_id=new_job_id)\n",
    "if new_job_results[\"status\"] != SUCCESS:\n",
    "    log.error((\"failed waiting for New Predictions job.id={} to finish error={} data={}\")\n",
    "              .format(new_job_id, new_job_results[\"error\"], new_job_results[\"data\"]))"
   ]
  },
  {
   "cell_type": "code",
   "execution_count": 19,
   "metadata": {
    "slideshow": {
     "slide_type": "slide"
    }
   },
   "outputs": [],
   "source": [
    "new_final_job = new_job_results[\"data\"][\"job\"]\n",
    "new_final_result = new_job_results[\"data\"][\"result\"]\n",
    "new_accuracy = new_final_result[\"acc_data\"][\"accuracy\"]\n",
    "new_predictions = new_final_result[\"predictions_json\"].get(\"predictions\", [])"
   ]
  },
  {
   "cell_type": "code",
   "execution_count": 20,
   "metadata": {
    "slideshow": {
     "slide_type": "slide"
    }
   },
   "outputs": [
    {
     "name": "stdout",
     "output_type": "stream",
     "text": [
      "\u001b[32m2018-03-30 19:33:54,706 - ai-protect-django - INFO - loading New predictions=30200 with accuracy=99.82615894039735 into pandas dataframe\u001b[0m\n",
      "\u001b[32m2018-03-30 19:33:55,218 - ai-protect-django - INFO - columns in dataframe with columns=['_count' '_original_label_value' '_row_idx' 'arp_hwlen' 'arp_hwtype'\n",
      " 'arp_id' 'arp_op' 'arp_plen' 'arp_ptype' 'dns_default_aa'\n",
      " 'dns_default_ad' 'dns_default_an' 'dns_default_ancount' 'dns_default_ar'\n",
      " 'dns_default_arcount' 'dns_default_cd' 'dns_default_id'\n",
      " 'dns_default_length' 'dns_default_ns' 'dns_default_nscount'\n",
      " 'dns_default_opcode' 'dns_default_qd' 'dns_default_qdcount'\n",
      " 'dns_default_qr' 'dns_default_ra' 'dns_default_rcode' 'dns_default_rd'\n",
      " 'dns_default_tc' 'dns_default_z' 'dns_id' 'eth_id' 'eth_type'\n",
      " 'icmp_addr_mask' 'icmp_code' 'icmp_gw' 'icmp_id' 'icmp_ptr' 'icmp_seq'\n",
      " 'icmp_ts_ori' 'icmp_ts_rx' 'icmp_ts_tx' 'icmp_type' 'icmp_unused' 'idx'\n",
      " 'ip_id' 'ip_ihl' 'ip_len' 'ip_tos' 'ip_version' 'ipv6_fl' 'ipv6_hlim'\n",
      " 'ipv6_nh' 'ipv6_plen' 'ipv6_tc' 'ipv6_version' 'ipvsix_id' 'label_name'\n",
      " 'label_value' 'pad_id' 'tcp_dport' 'tcp_fields_options.MSS'\n",
      " 'tcp_fields_options.NOP' 'tcp_fields_options.SAckOK'\n",
      " 'tcp_fields_options.Timestamp' 'tcp_fields_options.WScale' 'tcp_id'\n",
      " 'tcp_seq' 'tcp_sport' 'udp_dport' 'udp_id' 'udp_len' 'udp_sport']\u001b[0m\n"
     ]
    }
   ],
   "source": [
    "log.info((\"loading New predictions={} with accuracy={} into pandas dataframe\")\n",
    "         .format(len(new_predictions), new_accuracy))\n",
    "\n",
    "new_train_results_df = pd.DataFrame(new_predictions)\n",
    "\n",
    "log.info((\"columns in dataframe with columns={}\"\n",
    "          .format(new_train_results_df.columns.values)))"
   ]
  },
  {
   "cell_type": "markdown",
   "metadata": {
    "slideshow": {
     "slide_type": "slide"
    }
   },
   "source": [
    "## Process New Predictions and Determine Actual Accuracy"
   ]
  },
  {
   "cell_type": "code",
   "execution_count": 21,
   "metadata": {
    "slideshow": {
     "slide_type": "slide"
    }
   },
   "outputs": [],
   "source": [
    "# this can lock up your notebook if you set it to True... give it a minute to finish\n",
    "show_success = False\n",
    "show_error = False\n",
    "\n",
    "predict_feature = \"label_value\"\n",
    "org_value_col = \"_original_{}\".format(predict_feature)\n",
    "new_num_misses = 0\n",
    "new_actual_train_results = []\n",
    "for row_num, row in new_train_results_df.iterrows():\n",
    "    org_value = row[org_value_col]\n",
    "    predicted_value = row[predict_feature]\n",
    "    if (org_value == -1.0 and predicted_value != 0) or (org_value == 1.0 and predicted_value != 1):\n",
    "        if show_error:\n",
    "            log.error((\"row={} original_{}={} predicted={}\")\n",
    "                      .format(\n",
    "                        row_num,\n",
    "                        predict_feature,\n",
    "                        org_value,\n",
    "                        predicted_value))\n",
    "        new_num_misses += 1\n",
    "        new_actual_train_results.append({\"label\": \"bad\", \"prediction_status\": 1})\n",
    "    else:\n",
    "        if show_success:\n",
    "            log.info((\"row={} original_{}={} predicted={}\")\n",
    "                     .format(\n",
    "                        row_num,\n",
    "                        predict_feature,\n",
    "                        org_value,\n",
    "                        predicted_value))\n",
    "        new_actual_train_results.append({\"label\": \"good\", \"prediction_status\": 0})\n",
    "# end seeing original vs predicted"
   ]
  },
  {
   "cell_type": "markdown",
   "metadata": {
    "slideshow": {
     "slide_type": "slide"
    }
   },
   "source": [
    "## Show Actual Accuracy and Incorrect Predictions"
   ]
  },
  {
   "cell_type": "code",
   "execution_count": 22,
   "metadata": {
    "slideshow": {
     "slide_type": "slide"
    }
   },
   "outputs": [
    {
     "name": "stdout",
     "output_type": "stream",
     "text": [
      "\u001b[32m2018-03-30 19:33:57,624 - ai-protect-django - INFO - Original Number of Incorrect Predictions: 45/30200\u001b[0m\n",
      "\u001b[32m2018-03-30 19:33:57,627 - ai-protect-django - INFO - Original Predicted Accuracy was: 0.9985099337748344%\u001b[0m\n",
      "\u001b[32m2018-03-30 19:33:57,628 - ai-protect-django - INFO - New Number of Incorrect Predictions: 45/30200\u001b[0m\n",
      "\u001b[32m2018-03-30 19:33:57,631 - ai-protect-django - INFO - New Predicted Accuracy was: 0.9985099337748344%\u001b[0m\n"
     ]
    }
   ],
   "source": [
    "new_total_rows = len(new_train_results_df.index)\n",
    "new_predicted_accuracy = 1.0 - float(float(new_num_misses) / float(new_total_rows))\n",
    "\n",
    "log.info(\"Original Number of Incorrect Predictions: {}/{}\".format(num_misses, total_rows))\n",
    "log.info(\"Original Predicted Accuracy was: {}%\".format(predicted_accuracy))\n",
    "\n",
    "log.info(\"New Number of Incorrect Predictions: {}/{}\".format(new_num_misses, new_total_rows))\n",
    "log.info(\"New Predicted Accuracy was: {}%\".format(new_predicted_accuracy))"
   ]
  },
  {
   "cell_type": "markdown",
   "metadata": {
    "slideshow": {
     "slide_type": "slide"
    }
   },
   "source": [
    "## Show Prediction Distributions\n",
    "### 0.0 values are Correct predictions\n",
    "### 1.0 values are Incorrect predictions"
   ]
  },
  {
   "cell_type": "code",
   "execution_count": 23,
   "metadata": {
    "slideshow": {
     "slide_type": "slide"
    }
   },
   "outputs": [
    {
     "name": "stderr",
     "output_type": "stream",
     "text": [
      "/opt/venvs/venvdrfpipeline/lib/python3.6/site-packages/matplotlib/axes/_axes.py:6462: UserWarning: The 'normed' kwarg is deprecated, and has been replaced by the 'density' kwarg.\n",
      "  warnings.warn(\"The 'normed' kwarg is deprecated, and has been \"\n"
     ]
    },
    {
     "data": {
      "image/png": "[encoded data removed]",
      "text/plain": [
       "<Figure size 1080x720 with 1 Axes>"
      ]
     },
     "metadata": {},
     "output_type": "display_data"
    }
   ],
   "source": [
    "fig, ax = plt.subplots(figsize=(15.0, 10.0))\n",
    "new_actual_train_results_df = pd.DataFrame(new_actual_train_results)\n",
    "ax = sns.distplot(new_actual_train_results_df[\"prediction_status\"])\n",
    "ax.get_figure().text(0.90, 0.01, \"AntiNex - v1\", va=\"bottom\", fontsize=8, color=\"#888888\")\n",
    "plt.show()"
   ]
  },
  {
   "cell_type": "markdown",
   "metadata": {
    "slideshow": {
     "slide_type": "slide"
    }
   },
   "source": [
    "## Thanks for Reading!\n",
    "\n",
    "I hope you found it worthwhile"
   ]
  },
  {
   "cell_type": "markdown",
   "metadata": {
    "slideshow": {
     "slide_type": "slide"
    }
   },
   "source": [
    "## Please reach out if you are interested in helping\n",
    "\n",
    "https://github.com/jay-johnson/train-ai-with-django-swagger-jwt\n",
    "\n",
    "https://github.com/jay-johnson/antinex-core\n",
    "\n",
    "https://github.com/jay-johnson/network-pipeline\n",
    "\n",
    "https://github.com/jay-johnson/antinex-client\n",
    "\n",
    "https://github.com/jay-johnson/antinex-utils\n",
    "\n",
    "https://github.com/jay-johnson/antinex-datasets\n",
    "\n",
    "https://github.com/jay-johnson/network-pipeline-datasets"
   ]
  },
  {
   "cell_type": "markdown",
   "metadata": {
    "slideshow": {
     "slide_type": "slide"
    }
   },
   "source": [
    "## Latest Documentation\n",
    "\n",
    "http://antinex.readthedocs.io/en/latest"
   ]
  }
 ],
 "metadata": {
  "celltoolbar": "Slideshow",
  "kernelspec": {
   "display_name": "Python 3",
   "language": "python",
   "name": "python3"
  },
  "language_info": {
   "codemirror_mode": {
    "name": "ipython",
    "version": 3
   },
   "file_extension": ".py",
   "mimetype": "text/x-python",
   "name": "python",
   "nbconvert_exporter": "python",
   "pygments_lexer": "ipython3",
   "version": "3.6.4"
  }
 },
 "nbformat": 4,
 "nbformat_minor": 2
}
